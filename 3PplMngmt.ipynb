{
 "cells": [
  {
   "cell_type": "markdown",
   "metadata": {},
   "source": [
    "# SI630: Final Project code for 3_ppl_mngmt classification task\n",
    "\n",
    "***  \n"
   ]
  },
  {
   "cell_type": "code",
   "execution_count": 1,
   "metadata": {},
   "outputs": [],
   "source": [
    "import os\n",
    "import json, csv\n",
    "import re\n",
    "\n",
    "import pandas as pd\n",
    "import spacy\n",
    "import sklearn\n",
    "from glob import glob\n",
    "from pprint import pprint\n",
    "\n",
    "#import pickle\n",
    "from collections import Counter, defaultdict\n",
    "import numpy as np\n",
    "#from numpy import argmax\n",
    "import scipy\n",
    "import seaborn as sns\n",
    "import matplotlib\n",
    "import math\n",
    "import random\n",
    "import nltk\n",
    "import string\n",
    "from nltk.tokenize import word_tokenize\n",
    "from nltk.tokenize import sent_tokenize\n",
    "from scipy.spatial.distance import cosine\n",
    "from nltk.corpus import stopwords \n",
    "set(stopwords.words('english'))   \n",
    "#from numba import jit\n",
    "import seaborn as sns\n",
    "from matplotlib import pyplot as plt\n",
    "\n",
    "from sklearn.linear_model import LogisticRegression\n",
    "from sklearn.feature_extraction.text import TfidfTransformer\n",
    "from sklearn.model_selection import cross_val_score\n",
    "from sklearn.metrics import (accuracy_score, log_loss, classification_report)\n",
    "from sklearn.metrics import roc_auc_score\n",
    "from sklearn.metrics import f1_score\n",
    "from sklearn.feature_selection import SelectKBest\n",
    "from sklearn.feature_selection import chi2\n",
    "from sklearn.feature_extraction.text import CountVectorizer\n",
    "from sklearn.model_selection import train_test_split\n",
    "from sklearn.feature_extraction.text import TfidfTransformer\n",
    "from sklearn.linear_model import LogisticRegression\n",
    "from sklearn.metrics import f1_score\n",
    "from sklearn.decomposition import LatentDirichletAllocation\n",
    "from sklearn.metrics import log_loss\n",
    "from sklearn.metrics import roc_curve\n",
    "\n",
    "from sklearn.model_selection import cross_val_predict,cross_val_score,train_test_split\n",
    "from sklearn.metrics import classification_report,confusion_matrix,roc_curve,auc,precision_recall_curve,roc_curve\n",
    "\n",
    "\n",
    "import warnings\n",
    "#warnings.filterwarnings(\"ignore\", category=FutureWarning)\n"
   ]
  },
  {
   "cell_type": "code",
   "execution_count": 2,
   "metadata": {},
   "outputs": [],
   "source": [
    "monster_df = pd.read_excel(\"/Users/yukolopez/Desktop/SI630/Assignments/FinalProject/LR+LDA/monster_com-job_with_label_columns.csv.xlsx\", \n",
    "                 error_bad_lines=False, sheet_name=\"monster_com-job_sample\", na_filter=False, encoding= 'utf-8')"
   ]
  },
  {
   "cell_type": "code",
   "execution_count": 3,
   "metadata": {},
   "outputs": [],
   "source": [
    "monster_df = monster_df.replace({'T':True, 'F':False, '':np.nan})"
   ]
  },
  {
   "cell_type": "code",
   "execution_count": 4,
   "metadata": {},
   "outputs": [],
   "source": [
    "def clean_text(text):\n",
    "    \"\"\"\n",
    "    Applies some pre-processing on the given text.\n",
    "\n",
    "    Steps :\n",
    "    - Removing HTML tags\n",
    "    - Removing punctuation\n",
    "    - Lowering text\n",
    "    \"\"\"\n",
    "    \n",
    "    # remove HTML tags\n",
    "    text = re.sub(r\"<.*?>\", \"\", text)\n",
    "    \n",
    "    # remove the characters [\\], ['] and [\"]\n",
    "    text = re.sub(r\"\\\\\", \"\", text)    \n",
    "    text = re.sub(r\"\\'\", \"\", text)    \n",
    "    text = re.sub(r\"\\\"\", \"\", text)    \n",
    "    \n",
    "    # Remove Emails\n",
    "    text = re.sub(r\"\\S*@\\S*\\s?\", \"\", text)\n",
    "    \n",
    "    # Remove new line characters\n",
    "    text = re.sub(r\"\\s+\", \" \", text)\n",
    "    \n",
    "    # Remove single quotes\n",
    "    text = re.sub(r\"\\'\", \"\", text)\n",
    "    \n",
    "    # Convert text to lowercase\n",
    "    text = text.strip().lower()\n",
    "    \n",
    "    # Remove entity abbreviations\n",
    "    # Add \\b in redgex so that it creates word boundary -(e.g) the word, company, remains company.\n",
    "    text = re.sub(r\",?\\s*\\b(llc|inc|co)\\b\\.?\", \"\", text)\n",
    "    \n",
    "    # Replace punctuation characters with spaces\n",
    "    filters='!\"\\'#$%&()*+,-./:;<=>?@[\\\\]^_`{|}~\\t\\n'\n",
    "    translate_dict = dict((c, \" \") for c in filters)\n",
    "    translate_map = str.maketrans(translate_dict)\n",
    "    text = text.translate(translate_map)\n",
    "\n",
    "#pprint(text)\n",
    "    return text"
   ]
  },
  {
   "cell_type": "markdown",
   "metadata": {},
   "source": [
    "#### If each company name is a string on its own, you can try the following regex: /,?\\s*(llc|inc|co)\\.?$/i --> \n",
    "Optional comma\n",
    "Optional whitespace\n",
    "Either one of LLC/Inc/Co (case-insensitive)\n",
    "Optional period\n",
    "All the above at the end of the string\n"
   ]
  },
  {
   "cell_type": "code",
   "execution_count": 5,
   "metadata": {},
   "outputs": [],
   "source": [
    "labeled_rows = monster_df.loc[~monster_df['1_self_mngmt'].isnull()]"
   ]
  },
  {
   "cell_type": "code",
   "execution_count": 6,
   "metadata": {},
   "outputs": [],
   "source": [
    "X = labeled_rows['job_description']\n",
    "y = labeled_rows[['1_self_mngmt', '2_proj_mngmt', '3_ppl_mngmt', '4_prog_mngmt', '5_org_mngmt']]"
   ]
  },
  {
   "cell_type": "markdown",
   "metadata": {},
   "source": [
    "***  \n",
    "\n",
    "### Class Distribution Graph: 200 labed rows"
   ]
  },
  {
   "cell_type": "code",
   "execution_count": 7,
   "metadata": {},
   "outputs": [],
   "source": [
    "import seaborn as sns; sns.set()\n",
    "sns.set_color_codes()"
   ]
  },
  {
   "cell_type": "code",
   "execution_count": 8,
   "metadata": {},
   "outputs": [
    {
     "data": {
      "image/png": "[encoded data removed]",
      "text/plain": [
       "<Figure size 864x576 with 1 Axes>"
      ]
     },
     "metadata": {},
     "output_type": "display_data"
    }
   ],
   "source": [
    "sns.set(style=\"whitegrid\")\n",
    "colors = ['#ffcb05', '#00274c']\n",
    "# labels = y[['1_self_mngmt', '2_proj_mngmt', '3_ppl_mngmt', '4_prog_mngmt', '5_org_mngmt']]\n",
    "# fig, ax = plt.subplots(1, figsize=(12, 8))\n",
    "# barplot = plt.bar(labels, height=1, color = 'darkgreen', alpha = 0.85)\n",
    "# barplot[1].set_color('#00274c')\n",
    "\n",
    "fig, ax = plt.subplots(1, figsize=(12, 8))\n",
    "sns.barplot(data=y, color='#ffcb05')\n",
    "plt.suptitle(\"Initial Class Distributions\", fontsize=20, weight = 'bold')\n",
    "plt.xlabel('Factors', fontsize = 15, weight = 'bold')\n",
    "plt.xlabel('Classes', fontsize=14, weight = 'bold')\n",
    "plt.ylabel('True Label', fontsize=14, weight = 'bold')\n",
    "plt.show()\n",
    "\n",
    "# The fraction of True shown\n",
    "# Right now, I just don't know the true class distribution  --> Later to be addressed this class imbalance but not right now."
   ]
  },
  {
   "cell_type": "code",
   "execution_count": 9,
   "metadata": {},
   "outputs": [],
   "source": [
    "stopwords_lst = ['i', 'me', 'my', 'myself', 'we', 'our', 'ours', 'ourselves', 'you', 'your', 'yours',\n",
    "'yourself', 'yourselves', 'he', 'him', 'his', 'himself', 'she', 'her', 'hers',\n",
    "'herself', 'it', 'its', 'itself', 'they', 'them', 'their', 'theirs', 'themselves',\n",
    "'what', 'which', 'who', 'whom', 'this', 'that', 'these', 'those', 'am', 'is', 'are',\n",
    "'was', 'were', 'be', 'been', 'being', 'have', 'has', 'had', 'having', 'do', 'does',\n",
    "'did', 'doing', 'a', 'an', 'the', 'and', 'but', 'if', 'or', 'because', 'as', 'until',\n",
    "'while', 'of', 'at', 'by', 'for', 'with', 'about', 'against', 'between', 'into',\n",
    "'through', 'during', 'before', 'after', 'above', 'below', 'to', 'from', 'up', 'down',\n",
    "'in', 'out', 'on', 'off', 'over', 'under', 'again', 'further', 'then', 'once', 'here',\n",
    "'there', 'when', 'where', 'why', 'how', 'all', 'any', 'both', 'each', 'few', 'more',\n",
    "'most', 'other', 'some', 'such', 'no', 'nor', 'not', 'only', 'own', 'same', 'so',\n",
    "'than', 'too', 'very', 's', 't', 'can', 'will', 'just', 'don', 'should', 'now']"
   ]
  },
  {
   "cell_type": "code",
   "execution_count": 10,
   "metadata": {},
   "outputs": [],
   "source": [
    "from sklearn.feature_extraction.text import CountVectorizer\n",
    "from sklearn.model_selection import train_test_split\n",
    "from sklearn.feature_extraction.text import TfidfTransformer\n",
    "from sklearn.linear_model import LogisticRegression\n",
    "from sklearn.metrics import f1_score\n",
    "\n",
    "X_train, X_test, y_train, y_test = train_test_split(X, y, test_size=0.33, random_state=42)\n",
    "\n",
    "count_vectorizer = CountVectorizer(stop_words=stopwords_lst, preprocessor=clean_text, min_df=3, max_df=0.5)\n",
    "\n",
    "# Fit and transform count_vectorizer: \n",
    "X_train = count_vectorizer.fit_transform(X_train)\n",
    "X_test = count_vectorizer.transform(X_test)\n",
    "\n",
    "\n",
    "# Similarly for IF-IDF:\n",
    "tfidf_transformer = TfidfTransformer(use_idf=False).fit(X_train)\n",
    "X_train_tf = tfidf_transformer.transform(X_train)\n",
    "X_test_tf = tfidf_transformer.transform(X_test)"
   ]
  },
  {
   "cell_type": "code",
   "execution_count": 11,
   "metadata": {},
   "outputs": [],
   "source": [
    "#count_vectorizer.vocabulary_"
   ]
  },
  {
   "cell_type": "code",
   "execution_count": 12,
   "metadata": {},
   "outputs": [
    {
     "data": {
      "text/plain": [
       "<144x1857 sparse matrix of type '<class 'numpy.int64'>'\n",
       "\twith 17237 stored elements in Compressed Sparse Row format>"
      ]
     },
     "execution_count": 12,
     "metadata": {},
     "output_type": "execute_result"
    }
   ],
   "source": [
    "X_train"
   ]
  },
  {
   "cell_type": "code",
   "execution_count": 13,
   "metadata": {},
   "outputs": [
    {
     "data": {
      "text/plain": [
       "<71x1857 sparse matrix of type '<class 'numpy.int64'>'\n",
       "\twith 7844 stored elements in Compressed Sparse Row format>"
      ]
     },
     "execution_count": 13,
     "metadata": {},
     "output_type": "execute_result"
    }
   ],
   "source": [
    "X_test\n",
    "X_test "
   ]
  },
  {
   "cell_type": "code",
   "execution_count": 14,
   "metadata": {},
   "outputs": [],
   "source": [
    "y_train = y_train.astype('bool')"
   ]
  },
  {
   "cell_type": "code",
   "execution_count": 15,
   "metadata": {},
   "outputs": [
    {
     "data": {
      "text/plain": [
       "1_self_mngmt    0.816901\n",
       "2_proj_mngmt    0.352113\n",
       "3_ppl_mngmt     0.183099\n",
       "4_prog_mngmt    0.126761\n",
       "5_org_mngmt     0.112676\n",
       "dtype: float64"
      ]
     },
     "execution_count": 15,
     "metadata": {},
     "output_type": "execute_result"
    }
   ],
   "source": [
    "y_test = y_test.astype('bool')\n",
    "y_test.mean()"
   ]
  },
  {
   "cell_type": "markdown",
   "metadata": {},
   "source": [
    "***  \n",
    "\n",
    "# 4. Training The Model & Predicting"
   ]
  },
  {
   "cell_type": "code",
   "execution_count": 16,
   "metadata": {},
   "outputs": [],
   "source": [
    "classifier = LogisticRegression(solver='lbfgs', class_weight='balanced').fit(X_train, y_train[\"3_ppl_mngmt\"])"
   ]
  },
  {
   "cell_type": "code",
   "execution_count": 17,
   "metadata": {},
   "outputs": [
    {
     "data": {
      "text/plain": [
       "array([ True, False, False,  True,  True, False, False,  True, False,\n",
       "       False, False, False, False, False, False, False, False, False,\n",
       "        True,  True, False, False, False, False, False, False, False,\n",
       "       False,  True, False,  True, False, False, False, False, False,\n",
       "       False, False, False, False, False, False, False,  True, False,\n",
       "       False, False, False, False, False,  True, False, False, False,\n",
       "       False,  True, False, False, False, False, False, False, False,\n",
       "       False, False,  True, False, False, False, False, False])"
      ]
     },
     "execution_count": 17,
     "metadata": {},
     "output_type": "execute_result"
    }
   ],
   "source": [
    "y_pred = classifier.predict(X_test) #Predict class labels for samples in X\n",
    "y_pred"
   ]
  },
  {
   "cell_type": "code",
   "execution_count": 18,
   "metadata": {},
   "outputs": [
    {
     "data": {
      "text/plain": [
       "array([[2.89630084e-02, 9.71036992e-01],\n",
       "       [5.50530606e-01, 4.49469394e-01],\n",
       "       [8.63462413e-01, 1.36537587e-01],\n",
       "       [3.68715857e-01, 6.31284143e-01],\n",
       "       [7.42846046e-02, 9.25715395e-01],\n",
       "       [9.94804625e-01, 5.19537458e-03],\n",
       "       [9.53916046e-01, 4.60839536e-02],\n",
       "       [4.89662966e-01, 5.10337034e-01],\n",
       "       [9.79255334e-01, 2.07446663e-02],\n",
       "       [9.80164525e-01, 1.98354747e-02],\n",
       "       [7.61973766e-01, 2.38026234e-01],\n",
       "       [9.79716114e-01, 2.02838857e-02],\n",
       "       [7.03677460e-01, 2.96322540e-01],\n",
       "       [9.53342810e-01, 4.66571902e-02],\n",
       "       [8.93121934e-01, 1.06878066e-01],\n",
       "       [9.25902962e-01, 7.40970378e-02],\n",
       "       [9.97342736e-01, 2.65726401e-03],\n",
       "       [9.99491233e-01, 5.08766573e-04],\n",
       "       [4.47269737e-01, 5.52730263e-01],\n",
       "       [2.88453474e-01, 7.11546526e-01],\n",
       "       [9.55366758e-01, 4.46332421e-02],\n",
       "       [8.70499611e-01, 1.29500389e-01],\n",
       "       [5.80410011e-01, 4.19589989e-01],\n",
       "       [8.74469106e-01, 1.25530894e-01],\n",
       "       [7.00442079e-01, 2.99557921e-01],\n",
       "       [7.62708462e-01, 2.37291538e-01],\n",
       "       [9.17932060e-01, 8.20679404e-02],\n",
       "       [9.99045137e-01, 9.54863028e-04],\n",
       "       [3.08553817e-01, 6.91446183e-01],\n",
       "       [6.39086279e-01, 3.60913721e-01],\n",
       "       [3.83183833e-01, 6.16816167e-01],\n",
       "       [9.68696127e-01, 3.13038733e-02],\n",
       "       [9.19644717e-01, 8.03552828e-02],\n",
       "       [9.82484859e-01, 1.75151415e-02],\n",
       "       [9.61374585e-01, 3.86254154e-02],\n",
       "       [9.80848827e-01, 1.91511734e-02],\n",
       "       [9.85475336e-01, 1.45246639e-02],\n",
       "       [8.12627265e-01, 1.87372735e-01],\n",
       "       [9.72532687e-01, 2.74673133e-02],\n",
       "       [9.89260751e-01, 1.07392489e-02],\n",
       "       [6.20535347e-01, 3.79464653e-01],\n",
       "       [8.65466544e-01, 1.34533456e-01],\n",
       "       [6.42956514e-01, 3.57043486e-01],\n",
       "       [5.79920355e-02, 9.42007965e-01],\n",
       "       [9.51947080e-01, 4.80529199e-02],\n",
       "       [7.21047328e-01, 2.78952672e-01],\n",
       "       [5.63685385e-01, 4.36314615e-01],\n",
       "       [9.37513649e-01, 6.24863511e-02],\n",
       "       [9.66986672e-01, 3.30133275e-02],\n",
       "       [9.74674523e-01, 2.53254771e-02],\n",
       "       [3.33274892e-03, 9.96667251e-01],\n",
       "       [9.36068405e-01, 6.39315952e-02],\n",
       "       [9.91029380e-01, 8.97061965e-03],\n",
       "       [9.53916046e-01, 4.60839536e-02],\n",
       "       [8.40531194e-01, 1.59468806e-01],\n",
       "       [1.57089745e-01, 8.42910255e-01],\n",
       "       [5.73593718e-01, 4.26406282e-01],\n",
       "       [8.40531194e-01, 1.59468806e-01],\n",
       "       [8.99443797e-01, 1.00556203e-01],\n",
       "       [6.59541500e-01, 3.40458500e-01],\n",
       "       [5.47853216e-01, 4.52146784e-01],\n",
       "       [7.24049666e-01, 2.75950334e-01],\n",
       "       [9.97772802e-01, 2.22719809e-03],\n",
       "       [9.97676549e-01, 2.32345101e-03],\n",
       "       [8.24296857e-01, 1.75703143e-01],\n",
       "       [4.53210704e-01, 5.46789296e-01],\n",
       "       [6.58649214e-01, 3.41350786e-01],\n",
       "       [9.97469038e-01, 2.53096182e-03],\n",
       "       [9.84323641e-01, 1.56763586e-02],\n",
       "       [9.41665491e-01, 5.83345086e-02],\n",
       "       [7.66188767e-01, 2.33811233e-01]])"
      ]
     },
     "execution_count": 18,
     "metadata": {},
     "output_type": "execute_result"
    }
   ],
   "source": [
    "classifier.predict_proba(X_test) #Probability estimates "
   ]
  },
  {
   "cell_type": "markdown",
   "metadata": {},
   "source": [
    "***  \n",
    "\n",
    "### (1) Accuracy Score"
   ]
  },
  {
   "cell_type": "code",
   "execution_count": 19,
   "metadata": {},
   "outputs": [
    {
     "data": {
      "text/plain": [
       "0.7887323943661971"
      ]
     },
     "execution_count": 19,
     "metadata": {},
     "output_type": "execute_result"
    }
   ],
   "source": [
    "accuracy_score = classifier.score(X_test, y_test[\"3_ppl_mngmt\"])\n",
    "accuracy_score\n",
    "#X_test.shape #--> (9, 1306)\n",
    "#y_test.shape #--> (16, 5)\n",
    "\n",
    "# The accuracy score of the model"
   ]
  },
  {
   "cell_type": "markdown",
   "metadata": {},
   "source": [
    "***  \n",
    "\n",
    "### (2) F1 Score"
   ]
  },
  {
   "cell_type": "code",
   "execution_count": 20,
   "metadata": {},
   "outputs": [
    {
     "name": "stdout",
     "output_type": "stream",
     "text": [
      "0.7854098952690503\n",
      "0.6358974358974359\n",
      "0.7887323943661971\n"
     ]
    }
   ],
   "source": [
    "print(f1_score(y_test[\"3_ppl_mngmt\"], y_pred, average='weighted'))  \n",
    "print(f1_score(y_test[\"3_ppl_mngmt\"], y_pred, average='macro'))  \n",
    "print(f1_score(y_test[\"3_ppl_mngmt\"], y_pred, average='micro'))  \n",
    "# print(f1_score(y_test[\"3_ppl_mngmt\"], y_pred, average='weighted'))"
   ]
  },
  {
   "cell_type": "markdown",
   "metadata": {},
   "source": [
    "***  \n",
    "\n",
    "### (4) Cross Entropy"
   ]
  },
  {
   "cell_type": "code",
   "execution_count": 21,
   "metadata": {},
   "outputs": [
    {
     "data": {
      "text/plain": [
       "7.297003424023544"
      ]
     },
     "execution_count": 21,
     "metadata": {},
     "output_type": "execute_result"
    }
   ],
   "source": [
    "log_loss(y_test[\"3_ppl_mngmt\"], y_pred, eps=1e-15)"
   ]
  },
  {
   "cell_type": "markdown",
   "metadata": {},
   "source": [
    "***\n",
    "\n",
    "### (5) ROC AUC Score "
   ]
  },
  {
   "cell_type": "code",
   "execution_count": 22,
   "metadata": {},
   "outputs": [
    {
     "data": {
      "text/plain": [
       "0.7718832891246684"
      ]
     },
     "execution_count": 22,
     "metadata": {},
     "output_type": "execute_result"
    }
   ],
   "source": [
    "# We need some probabilities:\n",
    "predicted_prob = classifier.predict_proba(X_test)\n",
    "roc_auc_score(y_test[\"3_ppl_mngmt\"].astype(int), predicted_prob[:,1])\n",
    "# -->0.8055555555555556 returns: Given the random prediction is 0.5, where 1.0 is perfect, any value above 0.5 is good.  \n",
    "#This looks at the probabilities, and it will provide more fine-grained view of how the model is doing compared to acc score.  "
   ]
  },
  {
   "cell_type": "code",
   "execution_count": 23,
   "metadata": {},
   "outputs": [
    {
     "data": {
      "image/png": "[encoded data removed]",
      "text/plain": [
       "<Figure size 1368x936 with 1 Axes>"
      ]
     },
     "metadata": {},
     "output_type": "display_data"
    }
   ],
   "source": [
    "sns.set(style=\"whitegrid\")\n",
    "sns.set_context(\"poster\")\n",
    "\n",
    "fig, ax = plt.subplots(figsize=(19,13))\n",
    "\n",
    "# Calculate roc curve\n",
    "fpr, tpr, thresholds = roc_curve(y_test[\"3_ppl_mngmt\"].astype(int), predicted_prob[:,1])\n",
    "\n",
    "plt.suptitle(\"Base LR ROC Curve\", fontsize=25, weight = 'bold')\n",
    "plt.xlabel('False Positive Rate', fontsize = 20, weight = 'bold')\n",
    "plt.ylabel('True Positive Rate', fontsize=20, weight = 'bold')\n",
    "\n",
    "# The blue dotted diagonal line indicates randomness.\n",
    "plt.plot([0, 1], [0, 1], linestyle='--', linewidth=5)\n",
    "# The solid orange line indictaes the roc curve for the model\n",
    "plt.plot(fpr, tpr, marker='D', linewidth=5)\n",
    "\n",
    "# show the plot\n",
    "plt.show()"
   ]
  },
  {
   "cell_type": "markdown",
   "metadata": {},
   "source": [
    "***  \n",
    "\n",
    "### (6) Classification Report"
   ]
  },
  {
   "cell_type": "code",
   "execution_count": 24,
   "metadata": {},
   "outputs": [
    {
     "name": "stdout",
     "output_type": "stream",
     "text": [
      "              precision    recall  f1-score   support\n",
      "\n",
      "       False       0.86      0.88      0.87        58\n",
      "        True       0.42      0.38      0.40        13\n",
      "\n",
      "   micro avg       0.79      0.79      0.79        71\n",
      "   macro avg       0.64      0.63      0.64        71\n",
      "weighted avg       0.78      0.79      0.79        71\n",
      "\n"
     ]
    }
   ],
   "source": [
    "target_names = ['False', 'True']\n",
    "print(classification_report(y_test[\"3_ppl_mngmt\"].astype(int), y_pred, target_names=target_names))"
   ]
  },
  {
   "cell_type": "markdown",
   "metadata": {},
   "source": [
    "***  \n",
    "### Baseline Results: Making predictions for unlabeled data"
   ]
  },
  {
   "cell_type": "code",
   "execution_count": 25,
   "metadata": {},
   "outputs": [],
   "source": [
    "# Now we will find unlabeled rows for '2_proj_mngmt':\n",
    "unlabeled_rows = monster_df.loc[monster_df['3_ppl_mngmt'].isnull()]\n",
    "unlabeled_rows = unlabeled_rows.dropna(subset=[\"job_description\"])"
   ]
  },
  {
   "cell_type": "code",
   "execution_count": 26,
   "metadata": {},
   "outputs": [],
   "source": [
    "# Preproccessing\n",
    "X_unlabeled = unlabeled_rows['job_description']\n",
    "#y = unlabeled_rows[['1_self_mngmt', '2_proj_mngmt', '3_ppl_mngmt', '4_prog_mngmt', '5_org_mngmt']] --> I don't need this."
   ]
  },
  {
   "cell_type": "code",
   "execution_count": 27,
   "metadata": {},
   "outputs": [],
   "source": [
    "X_unlabeled = count_vectorizer.transform(X_unlabeled)\n",
    "X_unlabeled_tf = tfidf_transformer.transform(X_unlabeled)\n",
    "#print(X_unlabeled_tf)\n",
    "# print(X_unlabeled)"
   ]
  },
  {
   "cell_type": "code",
   "execution_count": 28,
   "metadata": {},
   "outputs": [
    {
     "name": "stdout",
     "output_type": "stream",
     "text": [
      "[[0.90823516 0.09176484]\n",
      " [0.89708058 0.10291942]\n",
      " [0.88760408 0.11239592]\n",
      " ...\n",
      " [0.9017094  0.0982906 ]\n",
      " [0.89711216 0.10288784]\n",
      " [0.88353819 0.11646181]]\n"
     ]
    }
   ],
   "source": [
    "unlabeled_pred_result = classifier.predict_proba(X_unlabeled_tf)\n",
    "unlabeled_pred_result #Probability estimates --> Look for the values, where the differece between x and y values are smallest\n",
    "print(unlabeled_pred_result)"
   ]
  },
  {
   "cell_type": "code",
   "execution_count": 29,
   "metadata": {},
   "outputs": [],
   "source": [
    "unlabeled_rows[\"prob_false\"] = unlabeled_pred_result[:,0]\n",
    "unlabeled_rows[\"prob_true\"] = unlabeled_pred_result[:,1]\n",
    "unlabeled_rows[\"label_prob_diff\"] = unlabeled_rows[\"prob_false\"] - unlabeled_rows[\"prob_true\"]\n",
    "unlabeled_rows[[\"prob_false\", \"prob_true\", \"label_prob_diff\"]].sort_values(by=\"label_prob_diff\", ascending=False)\n",
    "subset = unlabeled_rows[unlabeled_rows[\"label_prob_diff\"].between(-100,100)] #Use func, between.\n",
    "subset = subset[[\"prob_false\", \"prob_true\", \"label_prob_diff\", \"uniq_id\" ]].sort_values(by=\"label_prob_diff\", ascending=True)"
   ]
  },
  {
   "cell_type": "markdown",
   "metadata": {},
   "source": [
    "***  \n",
    "\n",
    "# 5. (1) Building Pipeline: Improve classification: LR with LDA\n",
    "https://towardsdatascience.com/unsupervised-nlp-topic-models-as-a-supervised-learning-input-cf8ee9e5cf28"
   ]
  },
  {
   "cell_type": "code",
   "execution_count": 30,
   "metadata": {},
   "outputs": [],
   "source": [
    "X_labeled_text = labeled_rows['job_description'] #Text job desc3_ppl_mngmtriptions\n",
    "y_labeled = labeled_rows[['1_self_mngmt', '2_proj_mngmt', '3_ppl_mngmt', '4_prog_mngmt', '5_org_mngmt']]"
   ]
  },
  {
   "cell_type": "code",
   "execution_count": 31,
   "metadata": {},
   "outputs": [],
   "source": [
    "X_all = monster_df[\"job_description\"].dropna()"
   ]
  },
  {
   "cell_type": "code",
   "execution_count": 35,
   "metadata": {},
   "outputs": [
    {
     "name": "stdout",
     "output_type": "stream",
     "text": [
      "Parameters:  {'C': 0.85, 'learning_decay': 0.7, 'n_components': 40} , \n",
      "Accuracy Score:  0.7464788732394366 , \n",
      "F1 Weighted:  0.7697315971299494 , \n",
      "F1 Macro:  0.6650943396226414 , \n",
      "F1 Micro:  0.7464788732394367 , \n",
      "Log Loss:  8.756467175667817 , \n",
      "ROC AUC:  0.8050397877984085 \n",
      "\n",
      "\n",
      "Parameters:  {'C': 0.85, 'learning_decay': 0.7, 'n_components': 45} , \n",
      "Accuracy Score:  0.7464788732394366 , \n",
      "F1 Weighted:  0.771882305981639 , \n",
      "F1 Macro:  0.6766194331983806 , \n",
      "F1 Micro:  0.7464788732394367 , \n",
      "Log Loss:  8.756478437603455 , \n",
      "ROC AUC:  0.8381962864721486 \n",
      "\n",
      "\n",
      "Parameters:  {'C': 0.85, 'learning_decay': 0.7, 'n_components': 50} , \n",
      "Accuracy Score:  0.8028169014084507 , \n",
      "F1 Weighted:  0.8124413145539907 , \n",
      "F1 Macro:  0.7041666666666666 , \n",
      "F1 Micro:  0.8028169014084506 , \n",
      "Log Loss:  6.8105643085298775 , \n",
      "ROC AUC:  0.8050397877984086 \n",
      "\n",
      "\n",
      "Parameters:  {'C': 0.85, 'learning_decay': 0.8, 'n_components': 40} , \n",
      "Accuracy Score:  0.7183098591549296 , \n",
      "F1 Weighted:  0.7465358955351541 , \n",
      "F1 Macro:  0.6406882591093117 , \n",
      "F1 Micro:  0.7183098591549296 , \n",
      "Log Loss:  9.72941297826897 , \n",
      "ROC AUC:  0.8023872679045093 \n",
      "\n",
      "\n",
      "Parameters:  {'C': 0.85, 'learning_decay': 0.8, 'n_components': 45} , \n",
      "Accuracy Score:  0.7464788732394366 , \n",
      "F1 Weighted:  0.7734465617232809 , \n",
      "F1 Macro:  0.6867647058823529 , \n",
      "F1 Micro:  0.7464788732394367 , \n",
      "Log Loss:  8.75648969953909 , \n",
      "ROC AUC:  0.8328912466843501 \n",
      "\n",
      "\n",
      "Parameters:  {'C': 0.85, 'learning_decay': 0.8, 'n_components': 50} , \n",
      "Accuracy Score:  0.7605633802816901 , \n",
      "F1 Weighted:  0.7812783241505105 , \n",
      "F1 Macro:  0.6777036048064085 , \n",
      "F1 Micro:  0.7605633802816902 , \n",
      "Log Loss:  8.269994274367242 , \n",
      "ROC AUC:  0.7572944297082228 \n",
      "\n",
      "\n",
      "Parameters:  {'C': 0.85, 'learning_decay': 0.9, 'n_components': 40} , \n",
      "Accuracy Score:  0.7323943661971831 , \n",
      "F1 Weighted:  0.7555463622858647 , \n",
      "F1 Macro:  0.6397863818424566 , \n",
      "F1 Micro:  0.7323943661971831 , \n",
      "Log Loss:  9.242928815032759 , \n",
      "ROC AUC:  0.7891246684350133 \n",
      "\n",
      "\n",
      "Parameters:  {'C': 0.85, 'learning_decay': 0.9, 'n_components': 45} , \n",
      "Accuracy Score:  0.647887323943662 , \n",
      "F1 Weighted:  0.6861511984245487 , \n",
      "F1 Macro:  0.5713595749818885 , \n",
      "F1 Micro:  0.647887323943662 , \n",
      "Log Loss:  12.161766222836212 , \n",
      "ROC AUC:  0.6976127320954908 \n",
      "\n",
      "\n",
      "Parameters:  {'C': 0.85, 'learning_decay': 0.9, 'n_components': 50} , \n",
      "Accuracy Score:  0.7746478873239436 , \n",
      "F1 Weighted:  0.7928135260363928 , \n",
      "F1 Macro:  0.6906318082788672 , \n",
      "F1 Micro:  0.7746478873239436 , \n",
      "Log Loss:  7.783521373066667 , \n",
      "ROC AUC:  0.8421750663129974 \n",
      "\n",
      "\n",
      "Parameters:  {'C': 1.0, 'learning_decay': 0.7, 'n_components': 40} , \n",
      "Accuracy Score:  0.647887323943662 , \n",
      "F1 Weighted:  0.6877369601342304 , \n",
      "F1 Macro:  0.5933562428407789 , \n",
      "F1 Micro:  0.647887323943662 , \n",
      "Log Loss:  12.161788746707487 , \n",
      "ROC AUC:  0.8050397877984085 \n",
      "\n",
      "\n",
      "Parameters:  {'C': 1.0, 'learning_decay': 0.7, 'n_components': 45} , \n",
      "Accuracy Score:  0.7605633802816901 , \n",
      "F1 Weighted:  0.7836133920640962 , \n",
      "F1 Macro:  0.6893178893178893 , \n",
      "F1 Micro:  0.7605633802816902 , \n",
      "Log Loss:  8.270005536302879 , \n",
      "ROC AUC:  0.8209549071618036 \n",
      "\n",
      "\n",
      "Parameters:  {'C': 1.0, 'learning_decay': 0.7, 'n_components': 50} , \n",
      "Accuracy Score:  0.7464788732394366 , \n",
      "F1 Weighted:  0.7633322663252241 , \n",
      "F1 Macro:  0.6369318181818182 , \n",
      "F1 Micro:  0.7464788732394367 , \n",
      "Log Loss:  8.756444651796544 , \n",
      "ROC AUC:  0.7811671087533157 \n",
      "\n",
      "\n",
      "Parameters:  {'C': 1.0, 'learning_decay': 0.8, 'n_components': 40} , \n",
      "Accuracy Score:  0.7605633802816901 , \n",
      "F1 Weighted:  0.7812783241505105 , \n",
      "F1 Macro:  0.6777036048064085 , \n",
      "F1 Micro:  0.7605633802816902 , \n",
      "Log Loss:  8.26999427436724 , \n",
      "ROC AUC:  0.8063660477453581 \n",
      "\n",
      "\n",
      "Parameters:  {'C': 1.0, 'learning_decay': 0.8, 'n_components': 45} , \n",
      "Accuracy Score:  0.7323943661971831 , \n",
      "F1 Weighted:  0.7555463622858647 , \n",
      "F1 Macro:  0.6397863818424566 , \n",
      "F1 Micro:  0.7323943661971831 , \n",
      "Log Loss:  9.242928815032759 , \n",
      "ROC AUC:  0.7944297082228117 \n",
      "\n",
      "\n",
      "Parameters:  {'C': 1.0, 'learning_decay': 0.8, 'n_components': 50} , \n",
      "Accuracy Score:  0.7323943661971831 , \n",
      "F1 Weighted:  0.7555463622858647 , \n",
      "F1 Macro:  0.6397863818424566 , \n",
      "F1 Micro:  0.7323943661971831 , \n",
      "Log Loss:  9.242928815032759 , \n",
      "ROC AUC:  0.810344827586207 \n",
      "\n",
      "\n",
      "Parameters:  {'C': 1.0, 'learning_decay': 0.9, 'n_components': 40} , \n",
      "Accuracy Score:  0.7746478873239436 , \n",
      "F1 Weighted:  0.7972287164281233 , \n",
      "F1 Macro:  0.7125506072874493 , \n",
      "F1 Micro:  0.7746478873239436 , \n",
      "Log Loss:  7.78354389693794 , \n",
      "ROC AUC:  0.8554376657824935 \n",
      "\n",
      "\n",
      "Parameters:  {'C': 1.0, 'learning_decay': 0.9, 'n_components': 45} , \n",
      "Accuracy Score:  0.7464788732394366 , \n",
      "F1 Weighted:  0.7697315971299494 , \n",
      "F1 Macro:  0.6650943396226414 , \n",
      "F1 Micro:  0.7464788732394367 , \n",
      "Log Loss:  8.756467175667817 , \n",
      "ROC AUC:  0.8037135278514589 \n",
      "\n",
      "\n",
      "Parameters:  {'C': 1.0, 'learning_decay': 0.9, 'n_components': 50} , \n",
      "Accuracy Score:  0.7887323943661971 , \n",
      "F1 Weighted:  0.8090706400565555 , \n",
      "F1 Macro:  0.7258687258687259 , \n",
      "F1 Micro:  0.7887323943661971 , \n",
      "Log Loss:  7.297070995637363 , \n",
      "ROC AUC:  0.8726790450928382 \n",
      "\n",
      "\n"
     ]
    }
   ],
   "source": [
    "from sklearn.model_selection import ParameterGrid\n",
    "from sklearn.pipeline import Pipeline\n",
    "\n",
    "# Define Search Param\n",
    "search_params = {'n_components': [40, 45, 50], 'learning_decay': [0.7, 0.8, 0.9], \n",
    "                 'C': [0.85, 1.0]}\n",
    "\n",
    "# For best_or_model, consider C=, \n",
    "# count_vectorizer_lda to be added to the search_params -(e.g.) min_df=100, max_df=0.7\n",
    "grid = ParameterGrid(search_params)\n",
    "\n",
    "#These are for lda model:\n",
    "#Use BoW, not tfidf because BoW is the assumption that lda uses\n",
    "count_vectorizer_lda = CountVectorizer(stop_words=stopwords_lst, preprocessor=clean_text, min_df=100, max_df=0.7)\n",
    "X_bow = count_vectorizer_lda.fit_transform(X_all) # X_all = monster_df[\"job_description\"].dropna()\n",
    "\n",
    "for params in grid:\n",
    "    best_lda_model = LatentDirichletAllocation(n_components=params['n_components'], \n",
    "                                               learning_decay=params['learning_decay'], \n",
    "                                               max_iter=100, batch_size=128, evaluate_every=5, n_jobs=-1)\n",
    "    best_lda_model.fit(X_bow) # Fits the model on the entire dataset\n",
    "    X_labeled = count_vectorizer_lda.transform(X_labeled_text) \n",
    "    # Take the above fitted data to take to the LR model.  To do so, first apply count_vectorizer and apply LDA model.\n",
    "    X_labeled = best_lda_model.transform(X_labeled) \n",
    "\n",
    "    X_train, X_test, y_train, y_test = train_test_split(X_labeled, y_labeled, test_size=0.33, random_state=42)\n",
    "    # y_test['2_proj_mngmt']\n",
    "\n",
    "    best_lr_model = LogisticRegression(penalty='l2', solver='lbfgs', C=params['C'], class_weight='balanced')\n",
    "    best_lr_model.fit(X_train, y_train[\"3_ppl_mngmt\"].astype(bool))\n",
    "    y_pred = best_lr_model.predict(X_test) #Predict class labels for samples in X\n",
    "\n",
    "    #cv_scores = cross_val_score(best_lr_model, X_test, y_pred, cv=2)\n",
    "    \n",
    "    cross_entropy = log_loss(y_test[\"3_ppl_mngmt\"].astype(bool), y_pred, eps=1e-15)\n",
    "    \n",
    "    predicted_prob = best_lr_model.predict_proba(X_test)\n",
    "    rocauc_score = roc_auc_score(y_test[\"3_ppl_mngmt\"].astype(bool), predicted_prob[:,1])\n",
    "    accuracy_score = best_lr_model.score(X_test, y_test[\"3_ppl_mngmt\"].astype(bool))\n",
    "    \n",
    "    weighted_f1_score = f1_score(y_test[\"3_ppl_mngmt\"].astype(bool), y_pred, average='weighted')  \n",
    "    macro_f1_score = f1_score(y_test[\"3_ppl_mngmt\"].astype(bool), y_pred, average='macro')  \n",
    "    micro_f1_score = f1_score(y_test[\"3_ppl_mngmt\"].astype(bool), y_pred, average='micro')\n",
    "    \n",
    "    print(\"Parameters: \", params,\",\", \"\\n\"\n",
    "          \"Accuracy Score: \", accuracy_score,\",\", \"\\n\"\n",
    "          'F1 Weighted: ', weighted_f1_score, \",\", \"\\n\"\n",
    "          'F1 Macro: ', macro_f1_score,\",\", \"\\n\" \n",
    "          'F1 Micro: ', micro_f1_score, \",\", \"\\n\"\n",
    "          'Log Loss: ', cross_entropy, \",\", \"\\n\"\n",
    "          \"ROC AUC: \", rocauc_score, \"\\n\\n\")\n",
    "    "
   ]
  },
  {
   "cell_type": "markdown",
   "metadata": {},
   "source": [
    "\n",
    "***  \n",
    "\n",
    "# 5. (2) Applying the best LDA parameters and display topics"
   ]
  },
  {
   "cell_type": "code",
   "execution_count": 32,
   "metadata": {},
   "outputs": [
    {
     "data": {
      "text/plain": [
       "LatentDirichletAllocation(batch_size=128, doc_topic_prior=None,\n",
       "             evaluate_every=5, learning_decay=0.9, learning_method='batch',\n",
       "             learning_offset=10.0, max_doc_update_iter=100, max_iter=100,\n",
       "             mean_change_tol=0.001, n_components=50, n_jobs=-1,\n",
       "             n_topics=None, perp_tol=0.1, random_state=None,\n",
       "             topic_word_prior=None, total_samples=1000000.0, verbose=0)"
      ]
     },
     "execution_count": 32,
     "metadata": {},
     "output_type": "execute_result"
    }
   ],
   "source": [
    "# https://scikit-learn.org/stable/modules/generated/sklearn.decomposition.LatentDirichletAllocation.html\n",
    "from sklearn.decomposition import LatentDirichletAllocation\n",
    "from sklearn.datasets import make_multilabel_classification\n",
    "\n",
    "X_all = monster_df[\"job_description\"].dropna()\n",
    "\n",
    "# This produces a feature matrix of token counts, similar to what\n",
    "# CountVectorizer would produce on text.\n",
    "#count_vectorizer_lda = CountVectorizer(stop_words=\"english\", preprocessor=clean_text, min_df=100, max_df=0.5)\n",
    "count_vectorizer_lda = CountVectorizer(stop_words=stopwords_lst, preprocessor=clean_text, min_df=100, max_df=0.7)\n",
    "# LDA is unsupervised, which means no label required.  \n",
    "\n",
    "X_bow = count_vectorizer_lda.fit_transform(X_all) # X came from X = labeled_rows['job_description']\n",
    "# X_tfidf = tfidf_transformer.fit_transform(X_bow)\n",
    "\n",
    "X_bow_feature_names = count_vectorizer_lda.get_feature_names()\n",
    "\n",
    "lda = LatentDirichletAllocation(n_components=50, learning_decay=0.9, max_iter=100, batch_size=128, evaluate_every=5, n_jobs=-1)\n",
    "\n",
    "lda.fit(X_bow) \n"
   ]
  },
  {
   "cell_type": "code",
   "execution_count": 33,
   "metadata": {},
   "outputs": [
    {
     "name": "stdout",
     "output_type": "stream",
     "text": [
      "Topic 0:\n",
      "patient care patients nursing required needs certification assigned hospital appropriate procedures plan provides treatment staff\n",
      "Topic 1:\n",
      "data job network services business centurylink programmer company communications solutions technology video voice designed employees\n",
      "Topic 2:\n",
      "security apply whelan requirements team must background following one education least assessment meet candidates law\n",
      "Topic 3:\n",
      "accounting financial accounts finance job monthly reporting analysis years degree accountant responsibilities excel reports general\n",
      "Topic 4:\n",
      "company years candidate position please looking opportunity resume client candidates must seeking benefits team ideal\n",
      "Topic 5:\n",
      "project construction projects management manager engineering design job contract site schedule cost field manage quality\n",
      "Topic 6:\n",
      "center england children education career driver behavioral training truck child families social mental classroom school\n",
      "Topic 7:\n",
      "services solutions com clients companies www global us business client leading hill information company technology\n",
      "Topic 8:\n",
      "search website please systems contact application affirmative action opportunity position job accommodation apply employment equal\n",
      "Topic 9:\n",
      "job apply time com www please position must online full hours 00 resume opportunity available\n",
      "Topic 10:\n",
      "candidates recruiting staffing dallas tx hire texas talent recruiter contract clients market houston order client\n",
      "Topic 11:\n",
      "safety procedures ensure policies standards employees maintain company ensures equipment maintains staff areas assigned duties\n",
      "Topic 12:\n",
      "health services home treatment state therapy professional skills community providing maintaining agencies maintains information physical\n",
      "Topic 13:\n",
      "oldcastle company family career opportunity ability one disability job proud large products servicemaster apply requirements\n",
      "Topic 14:\n",
      "medical clinical healthcare health regulatory research support pharmaceutical pharmacy development review management data activities us\n",
      "Topic 15:\n",
      "legal law firm litigation students must university position letter paralegal attorney college estate office years\n",
      "Topic 16:\n",
      "href attr break case test rt mns nonjob facebook twitter com linkedin youtube http client\n",
      "Topic 17:\n",
      "business management project team development teams client leadership projects process ensure manage performance processes support\n",
      "Topic 18:\n",
      "testing laboratory drug must test required field employment background pre lab pass requires may physical\n",
      "Topic 19:\n",
      "customers customer store required machine team requires equipment lifting products environment walking service bending requirements\n",
      "Topic 20:\n",
      "status employment disability protected veteran race equal national gender color origin religion without regard orientation\n",
      "Topic 21:\n",
      "quality manufacturing product production process engineering products control requirements plant improvement processes customer assurance technical\n",
      "Topic 22:\n",
      "marketing sales level entry management advertising customer clients client service business training brand relations team\n",
      "Topic 23:\n",
      "required customers service skills customer ability associates time may education general responsibilities duties personnel trugreen\n",
      "Topic 24:\n",
      "customers financial credit team services important customer help personal part products service job sales bank\n",
      "Topic 25:\n",
      "systems government support technical engineering program required clearance must candidate years volt system provide security\n",
      "Topic 26:\n",
      "customer service customers skills ability sales needs must provide team environment products able product excellent\n",
      "Topic 27:\n",
      "restaurant manager food management service general guest guests kitchen managers dining hospitality operations beverage years\n",
      "Topic 28:\n",
      "benefits insurance dental paid medical life company vision health package plan program competitive term 401k\n",
      "Topic 29:\n",
      "store merchandise company cash skills retail assist manager sales ability stores customer functions register knowledge\n",
      "Topic 30:\n",
      "team people career opportunity company great make us help business looking best join one success\n",
      "Topic 31:\n",
      "office information data duties administrative documents client reports calls processing claims system support files requests\n",
      "Topic 32:\n",
      "residents brookdale resident time living including associates senior nursing life care full new job want\n",
      "Topic 33:\n",
      "design development software data test testing technical years knowledge requirements web application business applications systems\n",
      "Topic 34:\n",
      "support network systems technical security system software hardware issues knowledge windows troubleshooting provide technology problems\n",
      "Topic 35:\n",
      "equipment maintenance repair electrical mechanical technician parts tools systems required repairs ability perform machine knowledge\n",
      "Topic 36:\n",
      "essential job may perform required functions must duties ability employee physical reasonable able vision individuals\n",
      "Topic 37:\n",
      "temporary permanent great randstad looking hours skills shift job company must youre age employer leader\n",
      "Topic 38:\n",
      "sales business account new marketing products territory market training selling outside customers customer relationships local\n",
      "Topic 39:\n",
      "food aramark sales job advantage time responsibilities products event ability product solutions marketing retail management\n",
      "Topic 40:\n",
      "training management human programs employee staff resources program development hr employees related degree services director\n",
      "Topic 41:\n",
      "null caption media text title com mm src newjobs jpg cjt1 xcybercx report job images\n",
      "Topic 42:\n",
      "drivers vehicle driver driving pay time company service truck paid home license valid team benefits\n",
      "Topic 43:\n",
      "compliance payroll tax financial audit state federal regulatory regulations risk internal management corporate including review\n",
      "Topic 44:\n",
      "must able warehouse lift equipment required including job ability inventory lbs duties clean perform orders\n",
      "Topic 45:\n",
      "skills ability strong communication written must excellent knowledge required team environment able verbal office excel\n",
      "Topic 46:\n",
      "store manager assistant ability associates tasks position customer service inventory customers directed product attention duties\n",
      "Topic 47:\n",
      "aflac insurance one ll business help benefits companies people sales company fortune agent best recognized\n",
      "Topic 48:\n",
      "care nurse health home rn registered patient nursing medical clinical hospice patients healthcare manager job\n",
      "Topic 49:\n",
      "benefits training guard construction learn meet skills job national army earn part may weeks change\n"
     ]
    }
   ],
   "source": [
    "def display_topics(model, feature_names, no_top_words):\n",
    "    for topic_idx, topic in enumerate(model.components_):\n",
    "        print(\"Topic %d:\" % (topic_idx))\n",
    "        print(\" \".join([feature_names[i]\n",
    "                        for i in topic.argsort()[:-num_top_words - 1:-1]]))\n",
    "\n",
    "num_top_words = 15\n",
    "#display_topics(nmf, tfidf_feature_names, no_top_words)\n",
    "display_topics(lda, X_bow_feature_names, num_top_words)"
   ]
  },
  {
   "cell_type": "code",
   "execution_count": null,
   "metadata": {},
   "outputs": [],
   "source": []
  },
  {
   "cell_type": "code",
   "execution_count": null,
   "metadata": {},
   "outputs": [],
   "source": []
  },
  {
   "cell_type": "markdown",
   "metadata": {},
   "source": [
    "***  \n",
    "\n",
    "## Possible Interview Questions for 3_ppl_mngmt"
   ]
  },
  {
   "cell_type": "code",
   "execution_count": 34,
   "metadata": {},
   "outputs": [],
   "source": [
    "interview_q_df = pd.read_excel(\"/Users/yukolopez/Desktop/SI630/Assignments/FinalProject/LR+LDA/behavioral_interview_q.xlsx\", \n",
    "                 error_bad_lines=False, sheet_name=\"Sheet1\", na_filter=False, encoding= 'utf-8')"
   ]
  },
  {
   "cell_type": "code",
   "execution_count": 35,
   "metadata": {},
   "outputs": [],
   "source": [
    "interview_q_df = interview_q_df.replace({'T':True, 'F':False, '':np.nan})"
   ]
  },
  {
   "cell_type": "code",
   "execution_count": 36,
   "metadata": {},
   "outputs": [
    {
     "data": {
      "text/plain": [
       "array([True, False], dtype=object)"
      ]
     },
     "execution_count": 36,
     "metadata": {},
     "output_type": "execute_result"
    }
   ],
   "source": [
    "interview_q_df['class_3'].unique()"
   ]
  },
  {
   "cell_type": "code",
   "execution_count": 38,
   "metadata": {},
   "outputs": [
    {
     "name": "stdout",
     "output_type": "stream",
     "text": [
      "1 Tell me a little bit about yourself.\n",
      "2 What do you know about our company and/or industry? What do you know about our competitors?\n",
      "4 Why should we hire YOU? What can you do for us that someone else cannot?\n",
      "5 In what ways do you think you can make a contribution to our company? What makes you qualified for this position?\n",
      "6 What would you do, or hope to accomplish in your first 90 days on the job?\n",
      "7 Why did you leave your last job?   or Why do you want to leave your current employer?\n",
      "8 Why have you had so many jobs in such a short period of time?\n",
      "9 Have you ever been fired or forced to resign?\n",
      "10 Describe a situation in which you found that your results were not up to your supervisor's expectations.  What happened?  What action did you take?\n",
      "11 Describe some times when you were not very satisfied or pleased with your own performance, even though nobody else knew about it.  What did you do about it?\n",
      "12 Talk about some situations where you had to adjust quikcly to changes over which you had no control.  What was the impact of the change on you and your work?  How did you handle it?\n",
      "14 What do you consider to be your greatest strengths and weaknesses?\n",
      "15 What are your long-range career objectives, and what steps have you taken toward obtaining them?  \n",
      "16 What would your last boss say about you?  \n",
      "17 What have you learned from your mistakes?  \n",
      "18 Can you explain this gap in your employment history?  What have you been doing for the \"X\" months since you were last employed?  \n",
      "19 What was your role in your department's most recent success?  \n",
      "20 Give me an example of a problem you faced on the job, and tell me how you solved it.  \n",
      "21 Give me an example of an important goal you had to set, and tell me about your progress in reaching that goal.\n",
      "22 How do you deal with competition?  Are you a competitive person?\n",
      "23 What would you consider an ideal work environment?\n",
      "24 How do you work with people?  Do you prefer working alone or in teams?  \n",
      "25 Describe a situation when working with a team produced more successful results than if you had completed the project on your own?  \n",
      "26 Tell me about a time you had to persuade or gain the cooperation of a group over which you had little or no authority.  What did you do?  How effective were you?\n",
      "27 Talk about a time when you established a partnership, or an agreement with an internal customer so you could both achieve yoru business goals.  How did you go about that and how did it turn out?\n",
      "28 How do you motivate other people?  Give me an example of something you did to help build enthusiasm in others.\n",
      "29 How did you develop or mentor individuals on your staff?\n",
      "30 Do you consider yourself to be a leader?  What are the attributes of a good leader?  Tell me about a time you showed good leadership.  \n",
      "31 Are you good at delegating tasks?  Tell me about your process.  \n",
      "32 Have you ever had to get a point across to a group of different types of people?  Give me an example.  What approach did you take?\n",
      "33 Describe a situation where you found yourself dealing with someone who didn't like you.  How did you handle it?\n",
      "34 Have you ever had difficulty with a supervisor?  With a coworker?  How did you resolve the conflict?\n",
      "35 Describe a situation where there was a significant conflict and you had to arrive at a compromise or guide others to a compromise.  \n",
      "36 Tell me about a time when you had to use your presentation skills to influence someone's opinion.  How successful were you?  \n",
      "37 What communication techniques have you used to make people feel secure, respected, and admired?  \n",
      "38 Tell me about an important written document you were required to complete.  \n",
      "39 Describe a time when you had to learn some new skills -(e.g.) programming tools and packages.  What steps did you take to become proficient?  \n",
      "40 Describe a time when you were faced with problems or stresses at work that tested your coping skills.  What did you do?  \n",
      "41 Describe the workload in your current or most recent job.\n",
      "42 What was the most creative thing you have ever done?\n",
      "43 Describe the relationship that should exist between the supervisor and his/her direct-reports.  \n",
      "44 What motivates you to go extra mile on a project or job?  \n",
      "45 Give me an example of a time you did more than what was required in your job.\n",
      "46 What does it mean to be successful?  According to your definition, how successful have you been so far?  How do you determine or evaluate success?  \n",
      "47 What was the best decision you ever made?  What were the alternatives?  How did you go about making it?\n",
      "48 What steps do you follow to study a problem before making a decision.\n",
      "49 What is the best thing you have ever done?  Or, what is the best thing that ever happened to you?\n",
      "50 What's one of the hardest decisions you've ever had to make?\n",
      "51 Recall a time when you were assigned what you considered to be a complex project.  Specifically, what steps did you take to prepare for and finish the project?  Were you happy with the outcome?  What one step would yo uhave done differently if given the chance?\n",
      "52 Give me an example of a time when you tried to accomplish something and failed.  Were you discouraged by this?  What did you do about it?  \n",
      "53 What do you really want to do in life?  What do you see yourself doing five years from now?  Ten years from now?\n",
      "55 Do you have any hobbies?  What do you do in your spare time?  What would you like me to know about you not on your resume?  \n",
      "56 If you had six months with no obligations and no financial constraints, what would you do?\n",
      "57 You may be overqualified or too experienced for the position we have to offer.  \n",
      "58 What type of salary do you expect if we offer this position to you?  What are your expectations regarding promotions and salary increases?\n",
      "1 Tell me a little bit about yourself.\n",
      "2 What do you know about our company and/or industry? What do you know about our competitors?\n",
      "4 Why should we hire YOU? What can you do for us that someone else cannot?\n",
      "5 In what ways do you think you can make a contribution to our company? What makes you qualified for this position?\n",
      "6 What would you do, or hope to accomplish in your first 90 days on the job?\n",
      "7 Why did you leave your last job?   or Why do you want to leave your current employer?\n",
      "8 Why have you had so many jobs in such a short period of time?\n",
      "9 Have you ever been fired or forced to resign?\n",
      "10 Describe a situation in which you found that your results were not up to your supervisor's expectations.  What happened?  What action did you take?\n",
      "11 Describe some times when you were not very satisfied or pleased with your own performance, even though nobody else knew about it.  What did you do about it?\n",
      "12 Talk about some situations where you had to adjust quikcly to changes over which you had no control.  What was the impact of the change on you and your work?  How did you handle it?\n",
      "14 What do you consider to be your greatest strengths and weaknesses?\n",
      "15 What are your long-range career objectives, and what steps have you taken toward obtaining them?  \n",
      "16 What would your last boss say about you?  \n",
      "17 What have you learned from your mistakes?  \n",
      "18 Can you explain this gap in your employment history?  What have you been doing for the \"X\" months since you were last employed?  \n",
      "19 What was your role in your department's most recent success?  \n",
      "20 Give me an example of a problem you faced on the job, and tell me how you solved it.  \n",
      "21 Give me an example of an important goal you had to set, and tell me about your progress in reaching that goal.\n",
      "22 How do you deal with competition?  Are you a competitive person?\n",
      "23 What would you consider an ideal work environment?\n",
      "24 How do you work with people?  Do you prefer working alone or in teams?  \n",
      "25 Describe a situation when working with a team produced more successful results than if you had completed the project on your own?  \n",
      "26 Tell me about a time you had to persuade or gain the cooperation of a group over which you had little or no authority.  What did you do?  How effective were you?\n",
      "27 Talk about a time when you established a partnership, or an agreement with an internal customer so you could both achieve yoru business goals.  How did you go about that and how did it turn out?\n",
      "28 How do you motivate other people?  Give me an example of something you did to help build enthusiasm in others.\n",
      "29 How did you develop or mentor individuals on your staff?\n",
      "30 Do you consider yourself to be a leader?  What are the attributes of a good leader?  Tell me about a time you showed good leadership.  \n",
      "31 Are you good at delegating tasks?  Tell me about your process.  \n",
      "32 Have you ever had to get a point across to a group of different types of people?  Give me an example.  What approach did you take?\n",
      "33 Describe a situation where you found yourself dealing with someone who didn't like you.  How did you handle it?\n",
      "34 Have you ever had difficulty with a supervisor?  With a coworker?  How did you resolve the conflict?\n",
      "35 Describe a situation where there was a significant conflict and you had to arrive at a compromise or guide others to a compromise.  \n",
      "36 Tell me about a time when you had to use your presentation skills to influence someone's opinion.  How successful were you?  \n",
      "37 What communication techniques have you used to make people feel secure, respected, and admired?  \n",
      "38 Tell me about an important written document you were required to complete.  \n",
      "39 Describe a time when you had to learn some new skills -(e.g.) programming tools and packages.  What steps did you take to become proficient?  \n",
      "40 Describe a time when you were faced with problems or stresses at work that tested your coping skills.  What did you do?  \n",
      "41 Describe the workload in your current or most recent job.\n",
      "42 What was the most creative thing you have ever done?\n",
      "43 Describe the relationship that should exist between the supervisor and his/her direct-reports.  \n",
      "44 What motivates you to go extra mile on a project or job?  \n",
      "45 Give me an example of a time you did more than what was required in your job.\n",
      "46 What does it mean to be successful?  According to your definition, how successful have you been so far?  How do you determine or evaluate success?  \n",
      "47 What was the best decision you ever made?  What were the alternatives?  How did you go about making it?\n",
      "48 What steps do you follow to study a problem before making a decision.\n",
      "49 What is the best thing you have ever done?  Or, what is the best thing that ever happened to you?\n",
      "50 What's one of the hardest decisions you've ever had to make?\n",
      "51 Recall a time when you were assigned what you considered to be a complex project.  Specifically, what steps did you take to prepare for and finish the project?  Were you happy with the outcome?  What one step would yo uhave done differently if given the chance?\n",
      "52 Give me an example of a time when you tried to accomplish something and failed.  Were you discouraged by this?  What did you do about it?  \n",
      "53 What do you really want to do in life?  What do you see yourself doing five years from now?  Ten years from now?\n",
      "55 Do you have any hobbies?  What do you do in your spare time?  What would you like me to know about you not on your resume?  \n",
      "56 If you had six months with no obligations and no financial constraints, what would you do?\n",
      "57 You may be overqualified or too experienced for the position we have to offer.  \n",
      "58 What type of salary do you expect if we offer this position to you?  What are your expectations regarding promotions and salary increases?\n"
     ]
    }
   ],
   "source": [
    "q = []\n",
    "for each in interview_q_df['class_3'].unique(): \n",
    "    qs = interview_q_df.loc[interview_q_df['class_3'] == True][[\"q_id\", \"interview_q\"]]\n",
    "    q.append(qs)\n",
    "#print(q)\n",
    "for i in q:\n",
    "    for index, b in i.iterrows():\n",
    "        print(b[\"q_id\"], b[\"interview_q\"])"
   ]
  },
  {
   "cell_type": "code",
   "execution_count": null,
   "metadata": {},
   "outputs": [],
   "source": []
  }
 ],
 "metadata": {
  "kernelspec": {
   "display_name": "Python 3",
   "language": "python",
   "name": "python3"
  },
  "language_info": {
   "codemirror_mode": {
    "name": "ipython",
    "version": 3
   },
   "file_extension": ".py",
   "mimetype": "text/x-python",
   "name": "python",
   "nbconvert_exporter": "python",
   "pygments_lexer": "ipython3",
   "version": "3.7.1"
  }
 },
 "nbformat": 4,
 "nbformat_minor": 2
}
