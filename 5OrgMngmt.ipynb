{
 "cells": [
  {
   "cell_type": "markdown",
   "metadata": {},
   "source": [
    "# SI630: Final Project code for 5_org_mngmt classification task"
   ]
  },
  {
   "cell_type": "markdown",
   "metadata": {},
   "source": [
    "***  \n",
    "\n",
    "# 1. Loading Data"
   ]
  },
  {
   "cell_type": "code",
   "execution_count": 1,
   "metadata": {},
   "outputs": [],
   "source": [
    "import re\n",
    "\n",
    "import pandas as pd\n",
    "import spacy\n",
    "import sklearn\n",
    "from glob import glob\n",
    "from pprint import pprint\n",
    "\n",
    "#import pickle\n",
    "from collections import Counter, defaultdict\n",
    "import numpy as np\n",
    "#from numpy import argmax\n",
    "import scipy\n",
    "import seaborn as sns\n",
    "import matplotlib\n",
    "import math\n",
    "import random\n",
    "import nltk\n",
    "import string\n",
    "from nltk.tokenize import word_tokenize\n",
    "from nltk.tokenize import sent_tokenize\n",
    "from scipy.spatial.distance import cosine\n",
    "from nltk.corpus import stopwords \n",
    "set(stopwords.words('english'))   \n",
    "#from numba import jit\n",
    "import seaborn as sns\n",
    "from matplotlib import pyplot as plt\n",
    "\n",
    "from sklearn.linear_model import LogisticRegression\n",
    "from sklearn.feature_extraction.text import TfidfTransformer\n",
    "from sklearn.model_selection import cross_val_score\n",
    "from sklearn.metrics import (accuracy_score, log_loss, classification_report)\n",
    "from sklearn.metrics import roc_auc_score\n",
    "from sklearn.metrics import f1_score\n",
    "from sklearn.feature_selection import SelectKBest\n",
    "from sklearn.feature_selection import chi2\n",
    "from sklearn.feature_extraction.text import CountVectorizer\n",
    "from sklearn.model_selection import train_test_split\n",
    "from sklearn.feature_extraction.text import TfidfTransformer\n",
    "from sklearn.linear_model import LogisticRegression\n",
    "from sklearn.metrics import f1_score\n",
    "from sklearn.decomposition import LatentDirichletAllocation\n",
    "from sklearn.metrics import log_loss\n",
    "from sklearn.metrics import roc_curve\n",
    "\n",
    "from sklearn.model_selection import cross_val_predict,cross_val_score,train_test_split\n",
    "from sklearn.metrics import classification_report,confusion_matrix,roc_curve,auc,precision_recall_curve,roc_curve\n",
    "\n",
    "\n",
    "import warnings\n",
    "#warnings.filterwarnings(\"ignore\", category=FutureWarning)\n"
   ]
  },
  {
   "cell_type": "code",
   "execution_count": 2,
   "metadata": {},
   "outputs": [],
   "source": [
    "monster_df = pd.read_excel(\"/Users/yukolopez/Desktop/SI630/Assignments/FinalProject/LR+LDA/monster_com-job_with_label_columns.csv.xlsx\", \n",
    "                 error_bad_lines=False, sheet_name=\"monster_com-job_sample\", na_filter=False, encoding= 'utf-8')"
   ]
  },
  {
   "cell_type": "code",
   "execution_count": 3,
   "metadata": {},
   "outputs": [],
   "source": [
    "monster_df = monster_df.replace({'T':True, 'F':False, '':np.nan})"
   ]
  },
  {
   "cell_type": "markdown",
   "metadata": {},
   "source": [
    "***  \n",
    "\n",
    "# 2. Pre-processing: Text Cleaning"
   ]
  },
  {
   "cell_type": "code",
   "execution_count": 4,
   "metadata": {},
   "outputs": [],
   "source": [
    "def clean_text(text):\n",
    "    \"\"\"\n",
    "    Applies some pre-processing on the given text.\n",
    "\n",
    "    Steps :\n",
    "    - Removing HTML tags\n",
    "    - Removing punctuation\n",
    "    - Lowering text\n",
    "    \"\"\"\n",
    "    \n",
    "    # remove HTML tags\n",
    "    text = re.sub(r\"<.*?>\", \"\", text)\n",
    "    \n",
    "    # remove the characters [\\], ['] and [\"]\n",
    "    text = re.sub(r\"\\\\\", \"\", text)    \n",
    "    text = re.sub(r\"\\'\", \"\", text)    \n",
    "    text = re.sub(r\"\\\"\", \"\", text)    \n",
    "    \n",
    "    # Remove Emails\n",
    "    text = re.sub(r\"\\S*@\\S*\\s?\", \"\", text)\n",
    "    \n",
    "    # Remove new line characters\n",
    "    text = re.sub(r\"\\s+\", \" \", text)\n",
    "    \n",
    "    # Remove single quotes\n",
    "    text = re.sub(r\"\\'\", \"\", text)\n",
    "    \n",
    "    # Convert text to lowercase\n",
    "    text = text.strip().lower()\n",
    "    \n",
    "    # Remove entity abbreviations\n",
    "    # Add \\b in redgex so that it creates word boundary -(e.g) the word, company, remains company.\n",
    "    text = re.sub(r\",?\\s*\\b(llc|inc|co)\\b\\.?\", \"\", text)\n",
    "    \n",
    "    # Replace punctuation characters with spaces\n",
    "    filters='!\"\\'#$%&()*+,-./:;<=>?@[\\\\]^_`{|}~\\t\\n'\n",
    "    translate_dict = dict((c, \" \") for c in filters)\n",
    "    translate_map = str.maketrans(translate_dict)\n",
    "    text = text.translate(translate_map)\n",
    "\n",
    "#pprint(text)\n",
    "    return text\n"
   ]
  },
  {
   "cell_type": "code",
   "execution_count": 5,
   "metadata": {},
   "outputs": [],
   "source": [
    "labeled_rows = monster_df.loc[~monster_df['1_self_mngmt'].isnull()]"
   ]
  },
  {
   "cell_type": "code",
   "execution_count": 6,
   "metadata": {},
   "outputs": [],
   "source": [
    "X = labeled_rows['job_description']\n",
    "y = labeled_rows[['1_self_mngmt', '2_proj_mngmt', '3_ppl_mngmt', '4_prog_mngmt', '5_org_mngmt']]"
   ]
  },
  {
   "cell_type": "markdown",
   "metadata": {},
   "source": [
    "***  \n",
    "\n",
    "### Class Distribution Graph for 215 labeled rows"
   ]
  },
  {
   "cell_type": "code",
   "execution_count": 7,
   "metadata": {},
   "outputs": [],
   "source": [
    "import seaborn as sns; sns.set()\n",
    "sns.set_color_codes()"
   ]
  },
  {
   "cell_type": "code",
   "execution_count": 8,
   "metadata": {},
   "outputs": [
    {
     "data": {
      "image/png": "[encoded data removed]",
      "text/plain": [
       "<Figure size 864x576 with 1 Axes>"
      ]
     },
     "metadata": {},
     "output_type": "display_data"
    }
   ],
   "source": [
    "sns.set(style=\"whitegrid\")\n",
    "colors = ['#ffcb05', '#00274c']\n",
    "# labels = y[['1_self_mngmt', '2_proj_mngmt', '3_ppl_mngmt', '4_prog_mngmt', '5_org_mngmt']]\n",
    "# fig, ax = plt.subplots(1, figsize=(12, 8))\n",
    "# barplot = plt.bar(labels, height=1, color = 'darkgreen', alpha = 0.85)\n",
    "# barplot[1].set_color('#00274c')\n",
    "\n",
    "fig, ax = plt.subplots(1, figsize=(12, 8))\n",
    "sns.barplot(data=y, color='#ffcb05')\n",
    "plt.suptitle(\"Initial Class Distributions\", fontsize=20, weight = 'bold')\n",
    "plt.xlabel('Factors', fontsize = 15, weight = 'bold')\n",
    "plt.xlabel('Classes', fontsize=14, weight = 'bold')\n",
    "plt.ylabel('True Label', fontsize=14, weight = 'bold')\n",
    "plt.show()\n",
    "\n",
    "# The fraction of True shown\n",
    "# Right now, I just don't know the true class distribution  --> Later to be addressed this class imbalance but not right now."
   ]
  },
  {
   "cell_type": "markdown",
   "metadata": {},
   "source": [
    "***  \n",
    "\n",
    "# 3. Building A Basic LR Model"
   ]
  },
  {
   "cell_type": "code",
   "execution_count": 9,
   "metadata": {},
   "outputs": [],
   "source": [
    "stopwords_lst = ['i', 'me', 'my', 'myself', 'we', 'our', 'ours', 'ourselves', 'you', 'your', 'yours',\n",
    "'yourself', 'yourselves', 'he', 'him', 'his', 'himself', 'she', 'her', 'hers',\n",
    "'herself', 'it', 'its', 'itself', 'they', 'them', 'their', 'theirs', 'themselves',\n",
    "'what', 'which', 'who', 'whom', 'this', 'that', 'these', 'those', 'am', 'is', 'are',\n",
    "'was', 'were', 'be', 'been', 'being', 'have', 'has', 'had', 'having', 'do', 'does',\n",
    "'did', 'doing', 'a', 'an', 'the', 'and', 'but', 'if', 'or', 'because', 'as', 'until',\n",
    "'while', 'of', 'at', 'by', 'for', 'with', 'about', 'against', 'between', 'into',\n",
    "'through', 'during', 'before', 'after', 'above', 'below', 'to', 'from', 'up', 'down',\n",
    "'in', 'out', 'on', 'off', 'over', 'under', 'again', 'further', 'then', 'once', 'here',\n",
    "'there', 'when', 'where', 'why', 'how', 'all', 'any', 'both', 'each', 'few', 'more',\n",
    "'most', 'other', 'some', 'such', 'no', 'nor', 'not', 'only', 'own', 'same', 'so',\n",
    "'than', 'too', 'very', 's', 't', 'can', 'will', 'just', 'don', 'should', 'now']"
   ]
  },
  {
   "cell_type": "code",
   "execution_count": 10,
   "metadata": {},
   "outputs": [],
   "source": [
    "X_train, X_test, y_train, y_test = train_test_split(X, y, test_size=0.33, random_state=42)\n",
    "\n",
    "count_vectorizer = CountVectorizer(stop_words=stopwords_lst, preprocessor=clean_text, min_df=3, max_df=0.5)\n",
    "\n",
    "# fit the vectorizer on the training text\n",
    "X_train = count_vectorizer.fit_transform(X_train)\n",
    "X_test = count_vectorizer.transform(X_test) \n",
    "\n",
    "tfidf_transformer = TfidfTransformer()\n",
    "X_train = tfidf_transformer.fit_transform(X_train)\n",
    "X_test = tfidf_transformer.transform(X_test)"
   ]
  },
  {
   "cell_type": "code",
   "execution_count": 11,
   "metadata": {},
   "outputs": [],
   "source": [
    "#count_vectorizer.vocabulary_"
   ]
  },
  {
   "cell_type": "code",
   "execution_count": 12,
   "metadata": {},
   "outputs": [
    {
     "data": {
      "text/plain": [
       "<144x1857 sparse matrix of type '<class 'numpy.float64'>'\n",
       "\twith 17237 stored elements in Compressed Sparse Row format>"
      ]
     },
     "execution_count": 12,
     "metadata": {},
     "output_type": "execute_result"
    }
   ],
   "source": [
    "X_train"
   ]
  },
  {
   "cell_type": "code",
   "execution_count": 13,
   "metadata": {},
   "outputs": [
    {
     "data": {
      "text/plain": [
       "<71x1857 sparse matrix of type '<class 'numpy.float64'>'\n",
       "\twith 7844 stored elements in Compressed Sparse Row format>"
      ]
     },
     "execution_count": 13,
     "metadata": {},
     "output_type": "execute_result"
    }
   ],
   "source": [
    "X_test"
   ]
  },
  {
   "cell_type": "code",
   "execution_count": 14,
   "metadata": {},
   "outputs": [],
   "source": [
    "y_train = y_train.astype('bool') #(134,5)\n",
    "#y_train"
   ]
  },
  {
   "cell_type": "code",
   "execution_count": 15,
   "metadata": {},
   "outputs": [
    {
     "data": {
      "text/plain": [
       "1_self_mngmt    0.816901\n",
       "2_proj_mngmt    0.352113\n",
       "3_ppl_mngmt     0.183099\n",
       "4_prog_mngmt    0.126761\n",
       "5_org_mngmt     0.112676\n",
       "dtype: float64"
      ]
     },
     "execution_count": 15,
     "metadata": {},
     "output_type": "execute_result"
    }
   ],
   "source": [
    "y_test = y_test.astype('bool') #(12, 5)\n",
    "y_test.mean()\n",
    "#y_test.count() #71"
   ]
  },
  {
   "cell_type": "markdown",
   "metadata": {},
   "source": [
    "***  \n",
    "\n",
    "# 4. Training The Model & Predicting"
   ]
  },
  {
   "cell_type": "code",
   "execution_count": 16,
   "metadata": {},
   "outputs": [],
   "source": [
    "classifier = LogisticRegression(solver='lbfgs', class_weight='balanced').fit(X_train, y_train[\"5_org_mngmt\"]) #'liblinear' is the default solver"
   ]
  },
  {
   "cell_type": "code",
   "execution_count": 17,
   "metadata": {},
   "outputs": [
    {
     "data": {
      "text/plain": [
       "array([False, False, False, False, False, False, False, False, False,\n",
       "       False, False, False, False, False, False, False, False, False,\n",
       "       False, False, False, False, False, False, False, False, False,\n",
       "       False, False, False, False, False, False, False, False, False,\n",
       "       False, False, False, False, False, False, False, False, False,\n",
       "       False, False, False, False, False, False, False, False, False,\n",
       "       False, False, False, False, False, False, False, False, False,\n",
       "       False, False, False, False, False, False, False, False])"
      ]
     },
     "execution_count": 17,
     "metadata": {},
     "output_type": "execute_result"
    }
   ],
   "source": [
    "y_pred = classifier.predict(X_test) #Predict class labels for samples in X\n",
    "y_pred\n",
    "#X_train.shape #(16, 1306)\n",
    "#y_train.shape #(16, 5)\n",
    "#X_test.shape #(9, 1306)\n",
    "#y_test.shape #(16, 5)"
   ]
  },
  {
   "cell_type": "code",
   "execution_count": 18,
   "metadata": {},
   "outputs": [
    {
     "data": {
      "text/plain": [
       "array([[0.72034735, 0.27965265],\n",
       "       [0.76467748, 0.23532252],\n",
       "       [0.81989433, 0.18010567],\n",
       "       [0.77248388, 0.22751612],\n",
       "       [0.57367963, 0.42632037],\n",
       "       [0.80840283, 0.19159717],\n",
       "       [0.8017743 , 0.1982257 ],\n",
       "       [0.7443716 , 0.2556284 ],\n",
       "       [0.84539233, 0.15460767],\n",
       "       [0.79189905, 0.20810095],\n",
       "       [0.80066608, 0.19933392],\n",
       "       [0.72081014, 0.27918986],\n",
       "       [0.75925921, 0.24074079],\n",
       "       [0.83827276, 0.16172724],\n",
       "       [0.8308089 , 0.1691911 ],\n",
       "       [0.82257902, 0.17742098],\n",
       "       [0.81436426, 0.18563574],\n",
       "       [0.63455005, 0.36544995],\n",
       "       [0.80276756, 0.19723244],\n",
       "       [0.54890578, 0.45109422],\n",
       "       [0.83941869, 0.16058131],\n",
       "       [0.69921136, 0.30078864],\n",
       "       [0.82000021, 0.17999979],\n",
       "       [0.65023821, 0.34976179],\n",
       "       [0.68254125, 0.31745875],\n",
       "       [0.75803372, 0.24196628],\n",
       "       [0.72309706, 0.27690294],\n",
       "       [0.58505386, 0.41494614],\n",
       "       [0.74949145, 0.25050855],\n",
       "       [0.75113301, 0.24886699],\n",
       "       [0.72759323, 0.27240677],\n",
       "       [0.81981144, 0.18018856],\n",
       "       [0.84977132, 0.15022868],\n",
       "       [0.78559991, 0.21440009],\n",
       "       [0.83180187, 0.16819813],\n",
       "       [0.83748336, 0.16251664],\n",
       "       [0.8265219 , 0.1734781 ],\n",
       "       [0.7816464 , 0.2183536 ],\n",
       "       [0.70216578, 0.29783422],\n",
       "       [0.75002401, 0.24997599],\n",
       "       [0.7001331 , 0.2998669 ],\n",
       "       [0.75432293, 0.24567707],\n",
       "       [0.80623923, 0.19376077],\n",
       "       [0.83572557, 0.16427443],\n",
       "       [0.81780349, 0.18219651],\n",
       "       [0.67837181, 0.32162819],\n",
       "       [0.80768801, 0.19231199],\n",
       "       [0.79491501, 0.20508499],\n",
       "       [0.86050274, 0.13949726],\n",
       "       [0.77952472, 0.22047528],\n",
       "       [0.78805605, 0.21194395],\n",
       "       [0.8194598 , 0.1805402 ],\n",
       "       [0.6183015 , 0.3816985 ],\n",
       "       [0.8017743 , 0.1982257 ],\n",
       "       [0.8010964 , 0.1989036 ],\n",
       "       [0.74086878, 0.25913122],\n",
       "       [0.6824219 , 0.3175781 ],\n",
       "       [0.8010964 , 0.1989036 ],\n",
       "       [0.81070663, 0.18929337],\n",
       "       [0.75855649, 0.24144351],\n",
       "       [0.62065415, 0.37934585],\n",
       "       [0.78855794, 0.21144206],\n",
       "       [0.7730675 , 0.2269325 ],\n",
       "       [0.85292398, 0.14707602],\n",
       "       [0.6417984 , 0.3582016 ],\n",
       "       [0.81968984, 0.18031016],\n",
       "       [0.72701429, 0.27298571],\n",
       "       [0.82775774, 0.17224226],\n",
       "       [0.80904044, 0.19095956],\n",
       "       [0.84838454, 0.15161546],\n",
       "       [0.81992704, 0.18007296]])"
      ]
     },
     "execution_count": 18,
     "metadata": {},
     "output_type": "execute_result"
    }
   ],
   "source": [
    "classifier.predict_proba(X_test) #Probability estimates "
   ]
  },
  {
   "cell_type": "markdown",
   "metadata": {},
   "source": [
    "***  \n",
    "\n",
    "# 5. Measurements/ Metrics from the base LR:  "
   ]
  },
  {
   "cell_type": "markdown",
   "metadata": {},
   "source": [
    "***  \n",
    "\n",
    "### (1) Accuracy Score"
   ]
  },
  {
   "cell_type": "code",
   "execution_count": 19,
   "metadata": {},
   "outputs": [
    {
     "data": {
      "text/plain": [
       "0.8873239436619719"
      ]
     },
     "execution_count": 19,
     "metadata": {},
     "output_type": "execute_result"
    }
   ],
   "source": [
    "base_lr_accuracy_score = classifier.score(X_test, y_test[\"5_org_mngmt\"])\n",
    "base_lr_accuracy_score"
   ]
  },
  {
   "cell_type": "markdown",
   "metadata": {},
   "source": [
    "***  \n",
    "\n",
    "### (2) F1 Score"
   ]
  },
  {
   "cell_type": "code",
   "execution_count": 20,
   "metadata": {},
   "outputs": [
    {
     "name": "stdout",
     "output_type": "stream",
     "text": [
      "0.834349379861257\n",
      "0.47014925373134325\n",
      "0.8873239436619719\n"
     ]
    },
    {
     "name": "stderr",
     "output_type": "stream",
     "text": [
      "/Users/yukolopez/anaconda3/lib/python3.7/site-packages/sklearn/metrics/classification.py:1143: UndefinedMetricWarning: F-score is ill-defined and being set to 0.0 in labels with no predicted samples.\n",
      "  'precision', 'predicted', average, warn_for)\n",
      "/Users/yukolopez/anaconda3/lib/python3.7/site-packages/sklearn/metrics/classification.py:1143: UndefinedMetricWarning: F-score is ill-defined and being set to 0.0 in labels with no predicted samples.\n",
      "  'precision', 'predicted', average, warn_for)\n"
     ]
    }
   ],
   "source": [
    "print(f1_score(y_test[\"5_org_mngmt\"].astype(bool), y_pred, average='weighted'))  \n",
    "print(f1_score(y_test[\"5_org_mngmt\"].astype(bool), y_pred, average='macro'))  \n",
    "print(f1_score(y_test[\"5_org_mngmt\"].astype(bool), y_pred, average='micro'))  \n",
    "# print(f1_score(y_test[\"3_ppl_mngmt\"], y_pred, average='weighted'))"
   ]
  },
  {
   "cell_type": "markdown",
   "metadata": {},
   "source": [
    "***  \n",
    "\n",
    "### (3) Cross Entropy"
   ]
  },
  {
   "cell_type": "code",
   "execution_count": 21,
   "metadata": {},
   "outputs": [
    {
     "data": {
      "text/plain": [
       "3.8916931149195135"
      ]
     },
     "execution_count": 21,
     "metadata": {},
     "output_type": "execute_result"
    }
   ],
   "source": [
    "log_loss(y_test[\"5_org_mngmt\"], y_pred, eps=1e-15)"
   ]
  },
  {
   "cell_type": "markdown",
   "metadata": {},
   "source": [
    "***  \n",
    "### (5) ROC AUC Score"
   ]
  },
  {
   "cell_type": "code",
   "execution_count": 22,
   "metadata": {},
   "outputs": [
    {
     "data": {
      "text/plain": [
       "0.9603174603174602"
      ]
     },
     "execution_count": 22,
     "metadata": {},
     "output_type": "execute_result"
    }
   ],
   "source": [
    "# We need some probabilities:\n",
    "predicted_prob = classifier.predict_proba(X_test)\n",
    "roc_auc_score(y_test[\"5_org_mngmt\"].astype(int), predicted_prob[:,1])\n",
    "# -->0.8055555555555556 returns: Given the random prediction is 0.5, where 1.0 is perfect, any value above 0.5 is good.  \n",
    "#This looks at the probabilities, and it will provide more fine-grained view of how the model is doing compared to acc score.  "
   ]
  },
  {
   "cell_type": "code",
   "execution_count": 23,
   "metadata": {},
   "outputs": [
    {
     "data": {
      "image/png": "[encoded data removed]",
      "text/plain": [
       "<Figure size 1080x864 with 1 Axes>"
      ]
     },
     "metadata": {},
     "output_type": "display_data"
    }
   ],
   "source": [
    "fig, ax = plt.subplots(figsize=(15,12))\n",
    "\n",
    "# Calculate roc curve\n",
    "fpr, tpr, thresholds = roc_curve(y_test[\"5_org_mngmt\"].astype(int), predicted_prob[:,1])\n",
    "\n",
    "plt.suptitle(\"ROC Curve\", fontsize=20, weight = 'bold')\n",
    "plt.xlabel('False Positive Rate', fontsize = 15)\n",
    "plt.ylabel('True Positive Rate', fontsize=14)\n",
    "\n",
    "# plot no skill\n",
    "plt.plot([0, 1], [0, 1], linestyle='--')\n",
    "# plot the roc curve for the model\n",
    "plt.plot(fpr, tpr, marker='.')\n",
    "# show the plot\n",
    "plt.show()"
   ]
  },
  {
   "cell_type": "markdown",
   "metadata": {},
   "source": [
    "***  \n",
    "\n",
    "### (5) Classification Report"
   ]
  },
  {
   "cell_type": "code",
   "execution_count": 24,
   "metadata": {},
   "outputs": [
    {
     "name": "stdout",
     "output_type": "stream",
     "text": [
      "              precision    recall  f1-score   support\n",
      "\n",
      "       False       0.65      1.00      0.79        46\n",
      "        True       0.00      0.00      0.00        25\n",
      "\n",
      "   micro avg       0.65      0.65      0.65        71\n",
      "   macro avg       0.32      0.50      0.39        71\n",
      "weighted avg       0.42      0.65      0.51        71\n",
      "\n"
     ]
    },
    {
     "name": "stderr",
     "output_type": "stream",
     "text": [
      "/Users/yukolopez/anaconda3/lib/python3.7/site-packages/sklearn/metrics/classification.py:1143: UndefinedMetricWarning: Precision and F-score are ill-defined and being set to 0.0 in labels with no predicted samples.\n",
      "  'precision', 'predicted', average, warn_for)\n",
      "/Users/yukolopez/anaconda3/lib/python3.7/site-packages/sklearn/metrics/classification.py:1143: UndefinedMetricWarning: Precision and F-score are ill-defined and being set to 0.0 in labels with no predicted samples.\n",
      "  'precision', 'predicted', average, warn_for)\n",
      "/Users/yukolopez/anaconda3/lib/python3.7/site-packages/sklearn/metrics/classification.py:1143: UndefinedMetricWarning: Precision and F-score are ill-defined and being set to 0.0 in labels with no predicted samples.\n",
      "  'precision', 'predicted', average, warn_for)\n"
     ]
    }
   ],
   "source": [
    "target_names = ['False', 'True']\n",
    "print(classification_report(y_test[\"2_proj_mngmt\"].astype(int), y_pred, target_names=target_names))"
   ]
  },
  {
   "cell_type": "markdown",
   "metadata": {},
   "source": [
    "***  \n",
    "### Baseline Results: Making predictions for unlabeled data"
   ]
  },
  {
   "cell_type": "code",
   "execution_count": 25,
   "metadata": {},
   "outputs": [],
   "source": [
    "# Now we will find unlabeled rows for '2_proj_mngmt':\n",
    "unlabeled_rows = monster_df.loc[monster_df['5_org_mngmt'].isnull()]\n",
    "unlabeled_rows = unlabeled_rows.dropna(subset=[\"job_description\"])"
   ]
  },
  {
   "cell_type": "code",
   "execution_count": 26,
   "metadata": {},
   "outputs": [],
   "source": [
    "# Preproccessing\n",
    "X_unlabeled = unlabeled_rows['job_description']\n",
    "#y = unlabeled_rows[['1_self_mngmt', '2_proj_mngmt', '3_ppl_mngmt', '4_prog_mngmt', '5_org_mngmt']] --> I don't need this."
   ]
  },
  {
   "cell_type": "code",
   "execution_count": 27,
   "metadata": {},
   "outputs": [],
   "source": [
    "X_unlabeled = count_vectorizer.transform(X_unlabeled)\n",
    "X_unlabeled_tf = tfidf_transformer.transform(X_unlabeled)\n",
    "#print(X_unlabeled_tf)\n",
    "# print(X_unlabeled)"
   ]
  },
  {
   "cell_type": "code",
   "execution_count": 28,
   "metadata": {},
   "outputs": [
    {
     "data": {
      "text/plain": [
       "array([[0.83188293, 0.16811707],\n",
       "       [0.79229037, 0.20770963],\n",
       "       [0.68945752, 0.31054248],\n",
       "       ...,\n",
       "       [0.8545896 , 0.1454104 ],\n",
       "       [0.84254112, 0.15745888],\n",
       "       [0.78753185, 0.21246815]])"
      ]
     },
     "execution_count": 28,
     "metadata": {},
     "output_type": "execute_result"
    }
   ],
   "source": [
    "unlabeled_pred_result = classifier.predict_proba(X_unlabeled_tf)\n",
    "unlabeled_pred_result #Probability estimates --> Look for the values, where the differece between x and y values are smallest"
   ]
  },
  {
   "cell_type": "code",
   "execution_count": 29,
   "metadata": {},
   "outputs": [],
   "source": [
    "unlabeled_rows[\"prob_false\"] = unlabeled_pred_result[:,0]\n",
    "unlabeled_rows[\"prob_true\"] = unlabeled_pred_result[:,1]\n",
    "unlabeled_rows[\"label_prob_diff\"] = unlabeled_rows[\"prob_false\"] - unlabeled_rows[\"prob_true\"]\n",
    "unlabeled_rows[[\"prob_false\", \"prob_true\", \"label_prob_diff\"]].sort_values(by=\"label_prob_diff\", ascending=False)\n",
    "subset = unlabeled_rows[unlabeled_rows[\"label_prob_diff\"].between(-10,10)] #Use func, between.\n",
    "subset = subset[[\"prob_false\", \"prob_true\", \"label_prob_diff\", \"uniq_id\" ]].sort_values(by=\"label_prob_diff\", ascending=True)"
   ]
  },
  {
   "cell_type": "markdown",
   "metadata": {},
   "source": [
    "***  \n",
    "\n",
    "# 5. (1) Building Pipeline: Improve classification: LR with LDA\n"
   ]
  },
  {
   "cell_type": "code",
   "execution_count": 30,
   "metadata": {},
   "outputs": [],
   "source": [
    "X_labeled_text = labeled_rows['job_description'] #Text job descriptions\n",
    "y_labeled = labeled_rows[['1_self_mngmt', '2_proj_mngmt', '3_ppl_mngmt', '4_prog_mngmt', '5_org_mngmt']]"
   ]
  },
  {
   "cell_type": "code",
   "execution_count": 31,
   "metadata": {},
   "outputs": [],
   "source": [
    "X_all = monster_df[\"job_description\"].dropna()"
   ]
  },
  {
   "cell_type": "code",
   "execution_count": 32,
   "metadata": {},
   "outputs": [
    {
     "name": "stdout",
     "output_type": "stream",
     "text": [
      "Parameters:  {'C': 0.85, 'learning_decay': 0.7, 'n_components': 40} , \n",
      "Accuracy Score:  0.8591549295774648 , \n",
      "F1 Weighted:  0.8658438083699329 , \n",
      "F1 Macro:  0.681899641577061 , \n",
      "F1 Micro:  0.8591549295774648 , \n",
      "Log Loss:  4.864683965263211 , \n",
      "ROC AUC:  0.8472222222222222 \n",
      "\n",
      "\n",
      "Parameters:  {'C': 0.85, 'learning_decay': 0.7, 'n_components': 45} , \n",
      "Accuracy Score:  0.8169014084507042 , \n",
      "F1 Weighted:  0.8349158310746019 , \n",
      "F1 Macro:  0.6367571822117276 , \n",
      "F1 Micro:  0.8169014084507042 , \n",
      "Log Loss:  6.3241026691649385 , \n",
      "ROC AUC:  0.8650793650793651 \n",
      "\n",
      "\n",
      "Parameters:  {'C': 0.85, 'learning_decay': 0.7, 'n_components': 50} , \n",
      "Accuracy Score:  0.8591549295774648 , \n",
      "F1 Weighted:  0.8748399487836109 , \n",
      "F1 Macro:  0.7310606060606061 , \n",
      "F1 Micro:  0.8591549295774648 , \n",
      "Log Loss:  4.864706489134485 , \n",
      "ROC AUC:  0.9166666666666666 \n",
      "\n",
      "\n",
      "Parameters:  {'C': 0.85, 'learning_decay': 0.8, 'n_components': 40} , \n",
      "Accuracy Score:  0.8450704225352113 , \n",
      "F1 Weighted:  0.8640899103058247 , \n",
      "F1 Macro:  0.7146510778224333 , \n",
      "F1 Micro:  0.8450704225352113 , \n",
      "Log Loss:  5.351179390435061 , \n",
      "ROC AUC:  0.9285714285714287 \n",
      "\n",
      "\n",
      "Parameters:  {'C': 0.85, 'learning_decay': 0.8, 'n_components': 45} , \n",
      "Accuracy Score:  0.8450704225352113 , \n",
      "F1 Weighted:  0.8603133955246631 , \n",
      "F1 Macro:  0.6926406926406926 , \n",
      "F1 Micro:  0.8450704225352113 , \n",
      "Log Loss:  5.351168128499424 , \n",
      "ROC AUC:  0.8968253968253967 \n",
      "\n",
      "\n",
      "Parameters:  {'C': 0.85, 'learning_decay': 0.8, 'n_components': 50} , \n",
      "Accuracy Score:  0.8309859154929577 , \n",
      "F1 Weighted:  0.8498079385403329 , \n",
      "F1 Macro:  0.6772727272727272 , \n",
      "F1 Micro:  0.8309859154929577 , \n",
      "Log Loss:  5.8376410297999985 , \n",
      "ROC AUC:  0.8412698412698413 \n",
      "\n",
      "\n",
      "Parameters:  {'C': 0.85, 'learning_decay': 0.9, 'n_components': 40} , \n",
      "Accuracy Score:  0.8591549295774648 , \n",
      "F1 Weighted:  0.8709305010390209 , \n",
      "F1 Macro:  0.7090163934426229 , \n",
      "F1 Micro:  0.8591549295774648 , \n",
      "Log Loss:  4.8646952271988475 , \n",
      "ROC AUC:  0.8611111111111112 \n",
      "\n",
      "\n",
      "Parameters:  {'C': 0.85, 'learning_decay': 0.9, 'n_components': 45} , \n",
      "Accuracy Score:  0.8591549295774648 , \n",
      "F1 Weighted:  0.8709305010390209 , \n",
      "F1 Macro:  0.7090163934426229 , \n",
      "F1 Micro:  0.8591549295774648 , \n",
      "Log Loss:  4.8646952271988475 , \n",
      "ROC AUC:  0.9067460317460319 \n",
      "\n",
      "\n",
      "Parameters:  {'C': 0.85, 'learning_decay': 0.9, 'n_components': 50} , \n",
      "Accuracy Score:  0.8732394366197183 , \n",
      "F1 Weighted:  0.8857109599747244 , \n",
      "F1 Macro:  0.7485242030696576 , \n",
      "F1 Micro:  0.8732394366197183 , \n",
      "Log Loss:  4.3782335878339085 , \n",
      "ROC AUC:  0.9126984126984128 \n",
      "\n",
      "\n",
      "Parameters:  {'C': 1.0, 'learning_decay': 0.7, 'n_components': 40} , \n",
      "Accuracy Score:  0.8169014084507042 , \n",
      "F1 Weighted:  0.8428169014084508 , \n",
      "F1 Macro:  0.6844444444444444 , \n",
      "F1 Micro:  0.8169014084507042 , \n",
      "Log Loss:  6.324125193036213 , \n",
      "ROC AUC:  0.8849206349206349 \n",
      "\n",
      "\n",
      "Parameters:  {'C': 1.0, 'learning_decay': 0.7, 'n_components': 45} , \n",
      "Accuracy Score:  0.8028169014084507 , \n",
      "F1 Weighted:  0.8247759282970551 , \n",
      "F1 Macro:  0.6234848484848485 , \n",
      "F1 Micro:  0.8028169014084506 , \n",
      "Log Loss:  6.810575570465513 , \n",
      "ROC AUC:  0.871031746031746 \n",
      "\n",
      "\n",
      "Parameters:  {'C': 1.0, 'learning_decay': 0.7, 'n_components': 50} , \n",
      "Accuracy Score:  0.8732394366197183 , \n",
      "F1 Weighted:  0.8888008357047656 , \n",
      "F1 Macro:  0.7665327000365363 , \n",
      "F1 Micro:  0.8732394366197183 , \n",
      "Log Loss:  4.378244849769546 , \n",
      "ROC AUC:  0.9146825396825398 \n",
      "\n",
      "\n",
      "Parameters:  {'C': 1.0, 'learning_decay': 0.8, 'n_components': 40} , \n",
      "Accuracy Score:  0.8309859154929577 , \n",
      "F1 Weighted:  0.8451166012468253 , \n",
      "F1 Macro:  0.6508196721311476 , \n",
      "F1 Micro:  0.8309859154929577 , \n",
      "Log Loss:  5.837629767864364 , \n",
      "ROC AUC:  0.8075396825396826 \n",
      "\n",
      "\n",
      "Parameters:  {'C': 1.0, 'learning_decay': 0.8, 'n_components': 45} , \n",
      "Accuracy Score:  0.8169014084507042 , \n",
      "F1 Weighted:  0.8349158310746019 , \n",
      "F1 Macro:  0.6367571822117276 , \n",
      "F1 Micro:  0.8169014084507042 , \n",
      "Log Loss:  6.3241026691649385 , \n",
      "ROC AUC:  0.8412698412698413 \n",
      "\n",
      "\n",
      "Parameters:  {'C': 1.0, 'learning_decay': 0.8, 'n_components': 50} , \n",
      "Accuracy Score:  0.8732394366197183 , \n",
      "F1 Weighted:  0.8888008357047656 , \n",
      "F1 Macro:  0.7665327000365363 , \n",
      "F1 Micro:  0.8732394366197183 , \n",
      "Log Loss:  4.378244849769546 , \n",
      "ROC AUC:  0.9305555555555556 \n",
      "\n",
      "\n",
      "Parameters:  {'C': 1.0, 'learning_decay': 0.9, 'n_components': 40} , \n",
      "Accuracy Score:  0.8732394366197183 , \n",
      "F1 Weighted:  0.8888008357047656 , \n",
      "F1 Macro:  0.7665327000365363 , \n",
      "F1 Micro:  0.8732394366197183 , \n",
      "Log Loss:  4.378244849769546 , \n",
      "ROC AUC:  0.9345238095238094 \n",
      "\n",
      "\n",
      "Parameters:  {'C': 1.0, 'learning_decay': 0.9, 'n_components': 45} , \n",
      "Accuracy Score:  0.8450704225352113 , \n",
      "F1 Weighted:  0.855412319875608 , \n",
      "F1 Macro:  0.6658108686350022 , \n",
      "F1 Micro:  0.8450704225352113 , \n",
      "Log Loss:  5.351156866563787 , \n",
      "ROC AUC:  0.8293650793650793 \n",
      "\n",
      "\n",
      "Parameters:  {'C': 1.0, 'learning_decay': 0.9, 'n_components': 50} , \n",
      "Accuracy Score:  0.8732394366197183 , \n",
      "F1 Weighted:  0.8857109599747244 , \n",
      "F1 Macro:  0.7485242030696576 , \n",
      "F1 Micro:  0.8732394366197183 , \n",
      "Log Loss:  4.3782335878339085 , \n",
      "ROC AUC:  0.8928571428571428 \n",
      "\n",
      "\n"
     ]
    }
   ],
   "source": [
    "from sklearn.model_selection import ParameterGrid\n",
    "from sklearn.pipeline import Pipeline\n",
    "\n",
    "# Define Search Param\n",
    "search_params = {'n_components': [40, 45, 50], 'learning_decay': [0.7, 0.8, 0.9], \n",
    "                 'C': [0.85, 1.0]}\n",
    "\n",
    "# For best_or_model, consider C=, \n",
    "# count_vectorizer_lda to be added to the search_params -(e.g.) min_df=100, max_df=0.7\n",
    "grid = ParameterGrid(search_params)\n",
    "\n",
    "#These are for lda model:\n",
    "#Use BoW, not tfidf because BoW is the assumption that lda uses\n",
    "count_vectorizer_lda = CountVectorizer(stop_words=stopwords_lst, preprocessor=clean_text, min_df=100, max_df=0.7)\n",
    "X_bow = count_vectorizer_lda.fit_transform(X_all) # X_all = monster_df[\"job_description\"].dropna()\n",
    "\n",
    "for params in grid:\n",
    "    best_lda_model = LatentDirichletAllocation(n_components=params['n_components'], \n",
    "                                               learning_decay=params['learning_decay'], \n",
    "                                               max_iter=100, batch_size=128, evaluate_every=5, n_jobs=-1)\n",
    "    best_lda_model.fit(X_bow) # Fits the model on the entire dataset\n",
    "    X_labeled = count_vectorizer_lda.transform(X_labeled_text) \n",
    "    # Take the above fitted data to take to the LR model.  To do so, first apply count_vectorizer and apply LDA model.\n",
    "    X_labeled = best_lda_model.transform(X_labeled) \n",
    "\n",
    "    X_train, X_test, y_train, y_test = train_test_split(X_labeled, y_labeled, test_size=0.33, random_state=42)\n",
    "    # y_test['2_proj_mngmt']\n",
    "\n",
    "    best_lr_model = LogisticRegression(penalty='l2', solver='lbfgs', C=params['C'], class_weight='balanced')\n",
    "    best_lr_model.fit(X_train, y_train[\"5_org_mngmt\"].astype(bool))\n",
    "    y_pred = best_lr_model.predict(X_test) #Predict class labels for samples in X\n",
    "\n",
    "    #cv_scores = cross_val_score(best_lr_model, X_test, y_pred, cv=2)\n",
    "    \n",
    "    cross_entropy = log_loss(y_test[\"5_org_mngmt\"].astype(bool), y_pred, eps=1e-15)\n",
    "    \n",
    "    predicted_prob = best_lr_model.predict_proba(X_test)\n",
    "    rocauc_score = roc_auc_score(y_test[\"5_org_mngmt\"].astype(bool), predicted_prob[:,1])\n",
    "    accuracy_score = best_lr_model.score(X_test, y_test[\"5_org_mngmt\"].astype(bool))\n",
    "    \n",
    "    weighted_f1_score = f1_score(y_test[\"5_org_mngmt\"].astype(bool), y_pred, average='weighted')  \n",
    "    macro_f1_score = f1_score(y_test[\"5_org_mngmt\"].astype(bool), y_pred, average='macro')  \n",
    "    micro_f1_score = f1_score(y_test[\"5_org_mngmt\"].astype(bool), y_pred, average='micro')\n",
    "    \n",
    "    print(\"Parameters: \", params,\",\", \"\\n\"\n",
    "          \"Accuracy Score: \", accuracy_score,\",\", \"\\n\"\n",
    "          'F1 Weighted: ', weighted_f1_score, \",\", \"\\n\"\n",
    "          'F1 Macro: ', macro_f1_score,\",\", \"\\n\" \n",
    "          'F1 Micro: ', micro_f1_score, \",\", \"\\n\"\n",
    "          'Log Loss: ', cross_entropy, \",\", \"\\n\"\n",
    "          \"ROC AUC: \", rocauc_score, \"\\n\\n\")"
   ]
  },
  {
   "cell_type": "markdown",
   "metadata": {},
   "source": [
    "***  \n",
    "# 5. (2) Applying the best LDA parameters and display topics"
   ]
  },
  {
   "cell_type": "code",
   "execution_count": 33,
   "metadata": {},
   "outputs": [
    {
     "data": {
      "text/plain": [
       "LatentDirichletAllocation(batch_size=128, doc_topic_prior=None,\n",
       "             evaluate_every=5, learning_decay=0.5, learning_method='batch',\n",
       "             learning_offset=10.0, max_doc_update_iter=100, max_iter=100,\n",
       "             mean_change_tol=0.001, n_components=35, n_jobs=-1,\n",
       "             n_topics=None, perp_tol=0.1, random_state=None,\n",
       "             topic_word_prior=None, total_samples=1000000.0, verbose=0)"
      ]
     },
     "execution_count": 33,
     "metadata": {},
     "output_type": "execute_result"
    }
   ],
   "source": [
    "X_all = monster_df[\"job_description\"].dropna()\n",
    "\n",
    "# This produces a feature matrix of token counts, similar to what\n",
    "# CountVectorizer would produce on text.\n",
    "#count_vectorizer_lda = CountVectorizer(stop_words=\"english\", preprocessor=clean_text, min_df=100, max_df=0.5)\n",
    "count_vectorizer_lda = CountVectorizer(stop_words=stopwords_lst, preprocessor=clean_text, min_df=100, max_df=0.7)\n",
    "# LDA is unsupervised, which means no label required.  \n",
    "\n",
    "X_bow = count_vectorizer_lda.fit_transform(X_all) # X came from X = labeled_rows['job_description']\n",
    "# X_tfidf = tfidf_transformer.fit_transform(X_bow)\n",
    "\n",
    "X_bow_feature_names = count_vectorizer_lda.get_feature_names()\n",
    "\n",
    "lda = LatentDirichletAllocation(n_components=35, learning_decay=0.5, max_iter=100, batch_size=128, evaluate_every=5, n_jobs=-1)\n",
    "# # doc_topic_prior=0.05, topic_word_prior=0.05\n",
    "# # doc_topic_prior --> Alpha, prior of document topic distribution theta. If the value is None, defaults to 1 / n_components.\n",
    "# # topic_word_prior --> Eta, prior of topic word distribution beta. If the value is None, defaults to 1 / n_components. \n",
    "\n",
    "lda.fit(X_bow) \n",
    "# # get topics for some given samples:\n",
    "# lda.transform(X_bow[-2:]) # Picks two examples to show as print for the last two examples\n",
    "# # (e.g.) array([[0.76497249, 0.00096665, 0.16679877, 0.06627602, 0.00098606],\n",
    "# #        [0.3278557 , 0.01228623, 0.00148471, 0.13557174, 0.52280162]])\n",
    "# # The above is the topic weights --> The higher the weight, the higher association of given topic given a doc\n",
    "# # These topic weights is applied to the Log Reg model we already have.\n",
    "\n",
    "# print(lda)  # Model attributes"
   ]
  },
  {
   "cell_type": "code",
   "execution_count": 34,
   "metadata": {},
   "outputs": [
    {
     "name": "stdout",
     "output_type": "stream",
     "text": [
      "Topic 0:\n",
      "security brookdale apply whelan must people including requirements drug one living time background associates team\n",
      "Topic 1:\n",
      "company store ability merchandise customers general control skills assist perform cash procedures knowledge required duties\n",
      "Topic 2:\n",
      "team digital job skills media content time part sales able description important social events opportunity\n",
      "Topic 3:\n",
      "services company us solutions business opportunity companies world industry clients global employees leading com technology\n",
      "Topic 4:\n",
      "care patient patients medical nursing health required treatment clinical services needs certification staff state hospital\n",
      "Topic 5:\n",
      "customer customers service team products required ensure provide needs assist sales maintain including environment equipment\n",
      "Topic 6:\n",
      "business management project team ability skills development strong client projects process manage teams develop leadership\n",
      "Topic 7:\n",
      "job com www position online application candidates required please employment apply years http may opportunity\n",
      "Topic 8:\n",
      "null caption text title media com mm src newjobs jpg cjt1 xcybercx report job images\n",
      "Topic 9:\n",
      "sales job advantage solutions products event marketing retail time product responsibilities ability consumer brand duties\n",
      "Topic 10:\n",
      "oldcastle required family customer may ability skills company customers perform trugreen time safety proud service\n",
      "Topic 11:\n",
      "sales marketing business customer level management service account entry training new advertising team clients market\n",
      "Topic 12:\n",
      "benefits training guard job learn meet construction skills national combat change youll building subject 000\n",
      "Topic 13:\n",
      "must ability required able may perform job duties essential functions physical environment skills position lift\n",
      "Topic 14:\n",
      "project construction projects engineering manager management design job years field site commercial schedule quality cost\n",
      "Topic 15:\n",
      "drivers driver driving truck vehicle license company pay valid class transportation england home years cdl\n",
      "Topic 16:\n",
      "benefits insurance dental paid company life team career medical competitive vision offer opportunity package time\n",
      "Topic 17:\n",
      "quality manufacturing product production engineering process products requirements control years plant degree technical knowledge required\n",
      "Topic 18:\n",
      "management procedures ensure safety training policies employees staff maintains performance operations company standards compliance ensures\n",
      "Topic 19:\n",
      "status employment disability protected veteran race national color origin religion equal without applicants regard sex\n",
      "Topic 20:\n",
      "href attr break case test rt mns nonjob facebook twitter linkedin com youtube http track\n",
      "Topic 21:\n",
      "aflac insurance ll one business help benefits companies people sales company agent fortune consecutive agents\n",
      "Topic 22:\n",
      "equipment maintenance repair technician must service electrical systems required able mechanical including tools repairs parts\n",
      "Topic 23:\n",
      "systems software technical support data design development network system knowledge test years skills security testing\n",
      "Topic 24:\n",
      "please must job resume looking apply time position company great candidates opportunity hours full hire\n",
      "Topic 25:\n",
      "care nurse home health rn nursing registered patient hospice healthcare clinical job kindred patients manager\n",
      "Topic 26:\n",
      "skills office ability communication excellent strong required information microsoft must word knowledge legal excel written\n",
      "Topic 27:\n",
      "food aramark service equipment learn items people areas clean world companies cleaning kitchen maintain ability\n",
      "Topic 28:\n",
      "benefits learn training guard national meet army skills part job equipment weeks change earn 000\n",
      "Topic 29:\n",
      "restaurant manager management service food general guest guests managers hospitality dining operations team assistant kitchen\n",
      "Topic 30:\n",
      "accounting financial accounts payroll tax finance job years hill reporting beacon company monthly responsibilities degree\n",
      "Topic 31:\n",
      "construction benefits heavy training skills guard horizontal job learn meet national equipment part engineer earn\n",
      "Topic 32:\n",
      "store customers merchandise retail associates customer requires service sales floor knowledge merchandising associate skills may\n",
      "Topic 33:\n",
      "store manager assistant ability associates tasks customer position service inventory directed product attention customers duties\n",
      "Topic 34:\n",
      "compliance management data support regulatory review related provide research program development including ensure clinical activities\n"
     ]
    }
   ],
   "source": [
    "def display_topics(model, feature_names, no_top_words):\n",
    "    for topic_idx, topic in enumerate(model.components_):\n",
    "        print(\"Topic %d:\" % (topic_idx))\n",
    "        print(\" \".join([feature_names[i]\n",
    "                        for i in topic.argsort()[:-num_top_words - 1:-1]]))\n",
    "\n",
    "num_top_words = 15\n",
    "#display_topics(nmf, tfidf_feature_names, no_top_words)\n",
    "display_topics(lda, X_bow_feature_names, num_top_words)"
   ]
  },
  {
   "cell_type": "code",
   "execution_count": null,
   "metadata": {},
   "outputs": [],
   "source": []
  },
  {
   "cell_type": "markdown",
   "metadata": {},
   "source": [
    "***  \n",
    "\n",
    "## Possible Interview Questions for 5_org_mngmt"
   ]
  },
  {
   "cell_type": "code",
   "execution_count": 2,
   "metadata": {},
   "outputs": [],
   "source": [
    "interview_q_df = pd.read_excel(\"/Users/yukolopez/Desktop/SI630/Assignments/FinalProject/LR+LDA/behavioral_interview_q.xlsx\", \n",
    "                 error_bad_lines=False, sheet_name=\"Sheet1\", na_filter=False, encoding= 'utf-8')"
   ]
  },
  {
   "cell_type": "code",
   "execution_count": 3,
   "metadata": {},
   "outputs": [],
   "source": [
    "interview_q_df = interview_q_df.replace({'T':True, 'F':False, '':np.nan})"
   ]
  },
  {
   "cell_type": "code",
   "execution_count": 4,
   "metadata": {},
   "outputs": [
    {
     "data": {
      "text/plain": [
       "array([True, False], dtype=object)"
      ]
     },
     "execution_count": 4,
     "metadata": {},
     "output_type": "execute_result"
    }
   ],
   "source": [
    "interview_q_df['class_5'].unique()"
   ]
  },
  {
   "cell_type": "code",
   "execution_count": 5,
   "metadata": {},
   "outputs": [
    {
     "name": "stdout",
     "output_type": "stream",
     "text": [
      "1 Tell me a little bit about yourself.\n",
      "5 In what ways do you think you can make a contribution to our company? What makes you qualified for this position?\n",
      "6 What would you do, or hope to accomplish in your first 90 days on the job?\n",
      "7 Why did you leave your last job?   or Why do you want to leave your current employer?\n",
      "8 Why have you had so many jobs in such a short period of time?\n",
      "20 Give me an example of a problem you faced on the job, and tell me how you solved it.  \n",
      "21 Give me an example of an important goal you had to set, and tell me about your progress in reaching that goal.\n",
      "22 How do you deal with competition?  Are you a competitive person?\n",
      "26 Tell me about a time you had to persuade or gain the cooperation of a group over which you had little or no authority.  What did you do?  How effective were you?\n",
      "27 Talk about a time when you established a partnership, or an agreement with an internal customer so you could both achieve yoru business goals.  How did you go about that and how did it turn out?\n",
      "28 How do you motivate other people?  Give me an example of something you did to help build enthusiasm in others.\n",
      "29 How did you develop or mentor individuals on your staff?\n",
      "30 Do you consider yourself to be a leader?  What are the attributes of a good leader?  Tell me about a time you showed good leadership.  \n",
      "32 Have you ever had to get a point across to a group of different types of people?  Give me an example.  What approach did you take?\n",
      "33 Describe a situation where you found yourself dealing with someone who didn't like you.  How did you handle it?\n",
      "34 Have you ever had difficulty with a supervisor?  With a coworker?  How did you resolve the conflict?\n",
      "35 Describe a situation where there was a significant conflict and you had to arrive at a compromise or guide others to a compromise.  \n",
      "37 What communication techniques have you used to make people feel secure, respected, and admired?  \n",
      "40 Describe a time when you were faced with problems or stresses at work that tested your coping skills.  What did you do?  \n",
      "42 What was the most creative thing you have ever done?\n",
      "46 What does it mean to be successful?  According to your definition, how successful have you been so far?  How do you determine or evaluate success?  \n",
      "50 What's one of the hardest decisions you've ever had to make?\n",
      "52 Give me an example of a time when you tried to accomplish something and failed.  Were you discouraged by this?  What did you do about it?  \n",
      "55 Do you have any hobbies?  What do you do in your spare time?  What would you like me to know about you not on your resume?  \n",
      "58 What type of salary do you expect if we offer this position to you?  What are your expectations regarding promotions and salary increases?\n",
      "1 Tell me a little bit about yourself.\n",
      "5 In what ways do you think you can make a contribution to our company? What makes you qualified for this position?\n",
      "6 What would you do, or hope to accomplish in your first 90 days on the job?\n",
      "7 Why did you leave your last job?   or Why do you want to leave your current employer?\n",
      "8 Why have you had so many jobs in such a short period of time?\n",
      "20 Give me an example of a problem you faced on the job, and tell me how you solved it.  \n",
      "21 Give me an example of an important goal you had to set, and tell me about your progress in reaching that goal.\n",
      "22 How do you deal with competition?  Are you a competitive person?\n",
      "26 Tell me about a time you had to persuade or gain the cooperation of a group over which you had little or no authority.  What did you do?  How effective were you?\n",
      "27 Talk about a time when you established a partnership, or an agreement with an internal customer so you could both achieve yoru business goals.  How did you go about that and how did it turn out?\n",
      "28 How do you motivate other people?  Give me an example of something you did to help build enthusiasm in others.\n",
      "29 How did you develop or mentor individuals on your staff?\n",
      "30 Do you consider yourself to be a leader?  What are the attributes of a good leader?  Tell me about a time you showed good leadership.  \n",
      "32 Have you ever had to get a point across to a group of different types of people?  Give me an example.  What approach did you take?\n",
      "33 Describe a situation where you found yourself dealing with someone who didn't like you.  How did you handle it?\n",
      "34 Have you ever had difficulty with a supervisor?  With a coworker?  How did you resolve the conflict?\n",
      "35 Describe a situation where there was a significant conflict and you had to arrive at a compromise or guide others to a compromise.  \n",
      "37 What communication techniques have you used to make people feel secure, respected, and admired?  \n",
      "40 Describe a time when you were faced with problems or stresses at work that tested your coping skills.  What did you do?  \n",
      "42 What was the most creative thing you have ever done?\n",
      "46 What does it mean to be successful?  According to your definition, how successful have you been so far?  How do you determine or evaluate success?  \n",
      "50 What's one of the hardest decisions you've ever had to make?\n",
      "52 Give me an example of a time when you tried to accomplish something and failed.  Were you discouraged by this?  What did you do about it?  \n",
      "55 Do you have any hobbies?  What do you do in your spare time?  What would you like me to know about you not on your resume?  \n",
      "58 What type of salary do you expect if we offer this position to you?  What are your expectations regarding promotions and salary increases?\n"
     ]
    }
   ],
   "source": [
    "q = []\n",
    "for each in interview_q_df['class_5'].unique(): \n",
    "    qs = interview_q_df.loc[interview_q_df['class_5'] == True][[\"q_id\", \"interview_q\"]]\n",
    "    q.append(qs)\n",
    "#print(q)\n",
    "for a in q:\n",
    "    for index, b in a.iterrows():\n",
    "        print(b[\"q_id\"], b[\"interview_q\"])"
   ]
  },
  {
   "cell_type": "code",
   "execution_count": null,
   "metadata": {},
   "outputs": [],
   "source": []
  }
 ],
 "metadata": {
  "kernelspec": {
   "display_name": "Python 3",
   "language": "python",
   "name": "python3"
  },
  "language_info": {
   "codemirror_mode": {
    "name": "ipython",
    "version": 3
   },
   "file_extension": ".py",
   "mimetype": "text/x-python",
   "name": "python",
   "nbconvert_exporter": "python",
   "pygments_lexer": "ipython3",
   "version": "3.7.1"
  }
 },
 "nbformat": 4,
 "nbformat_minor": 2
}
