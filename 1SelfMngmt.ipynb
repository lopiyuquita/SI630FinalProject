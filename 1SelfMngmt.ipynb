{
 "cells": [
  {
   "cell_type": "markdown",
   "metadata": {},
   "source": [
    "# SI630: Final Project code for 1_self_mngmt classification task\n",
    "\n",
    "***  \n"
   ]
  },
  {
   "cell_type": "code",
   "execution_count": 1,
   "metadata": {},
   "outputs": [],
   "source": [
    "import os\n",
    "import json, csv\n",
    "import re\n",
    "\n",
    "import pandas as pd\n",
    "import spacy\n",
    "import sklearn\n",
    "from glob import glob\n",
    "from pprint import pprint\n",
    "\n",
    "#import pickle\n",
    "from collections import Counter, defaultdict\n",
    "import numpy as np\n",
    "#from numpy import argmax\n",
    "import scipy\n",
    "import seaborn as sns\n",
    "import matplotlib\n",
    "import math\n",
    "import random\n",
    "import nltk\n",
    "import string\n",
    "from nltk.tokenize import word_tokenize\n",
    "from nltk.tokenize import sent_tokenize\n",
    "from scipy.spatial.distance import cosine\n",
    "from nltk.corpus import stopwords \n",
    "set(stopwords.words('english'))   \n",
    "#from numba import jit\n",
    "import seaborn as sns\n",
    "from matplotlib import pyplot as plt\n",
    "\n",
    "from sklearn.linear_model import LogisticRegression\n",
    "from sklearn.feature_extraction.text import TfidfTransformer\n",
    "from sklearn.model_selection import cross_val_score\n",
    "from sklearn.metrics import (accuracy_score, log_loss, classification_report)\n",
    "from sklearn.metrics import roc_auc_score\n",
    "from sklearn.metrics import f1_score\n",
    "from sklearn.feature_selection import SelectKBest\n",
    "from sklearn.feature_selection import chi2\n",
    "from sklearn.feature_extraction.text import CountVectorizer\n",
    "from sklearn.model_selection import train_test_split\n",
    "from sklearn.feature_extraction.text import TfidfTransformer\n",
    "from sklearn.linear_model import LogisticRegression\n",
    "from sklearn.metrics import f1_score\n",
    "from sklearn.decomposition import LatentDirichletAllocation\n",
    "from sklearn.metrics import log_loss\n",
    "from sklearn.metrics import roc_curve\n",
    "\n",
    "from sklearn.model_selection import cross_val_predict,cross_val_score,train_test_split\n",
    "from sklearn.metrics import classification_report,confusion_matrix,roc_curve,auc,precision_recall_curve,roc_curve\n",
    "\n",
    "\n",
    "import warnings\n",
    "#warnings.filterwarnings(\"ignore\", category=FutureWarning)\n"
   ]
  },
  {
   "cell_type": "code",
   "execution_count": 2,
   "metadata": {},
   "outputs": [],
   "source": [
    "monster_df = pd.read_excel(\"/Users/yukolopez/Desktop/SI630/Assignments/FinalProject/LR+LDA/monster_com-job_with_label_columns.csv.xlsx\", \n",
    "                 error_bad_lines=False, sheet_name=\"monster_com-job_sample\", na_filter=False, encoding= 'utf-8')"
   ]
  },
  {
   "cell_type": "code",
   "execution_count": 3,
   "metadata": {},
   "outputs": [],
   "source": [
    "monster_df = monster_df.replace({'T':True, 'F':False, '':np.nan})"
   ]
  },
  {
   "cell_type": "code",
   "execution_count": 4,
   "metadata": {},
   "outputs": [],
   "source": [
    "def clean_text(text):\n",
    "    \"\"\"\n",
    "    Applies some pre-processing on the given text.\n",
    "\n",
    "    Steps :\n",
    "    - Removing HTML tags\n",
    "    - Removing punctuation\n",
    "    - Lowering text\n",
    "    \"\"\"\n",
    "    \n",
    "    # remove HTML tags\n",
    "    text = re.sub(r\"<.*?>\", \"\", text)\n",
    "    \n",
    "    # remove the characters [\\], ['] and [\"]\n",
    "    text = re.sub(r\"\\\\\", \"\", text)    \n",
    "    text = re.sub(r\"\\'\", \"\", text)    \n",
    "    text = re.sub(r\"\\\"\", \"\", text)    \n",
    "    \n",
    "    # Remove Emails\n",
    "    text = re.sub(r\"\\S*@\\S*\\s?\", \"\", text)\n",
    "    \n",
    "    # Remove new line characters\n",
    "    text = re.sub(r\"\\s+\", \" \", text)\n",
    "    \n",
    "    # Remove single quotes\n",
    "    text = re.sub(r\"\\'\", \"\", text)\n",
    "    \n",
    "    # Convert text to lowercase\n",
    "    text = text.strip().lower()\n",
    "    \n",
    "    # Remove entity abbreviations\n",
    "    # Add \\b in redgex so that it creates word boundary -(e.g) the word, company, remains company.\n",
    "    text = re.sub(r\",?\\s*\\b(llc|inc|co)\\b\\.?\", \"\", text)\n",
    "    \n",
    "    # Replace punctuation characters with spaces\n",
    "    filters='!\"\\'#$%&()*+,-./:;<=>?@[\\\\]^_`{|}~\\t\\n'\n",
    "    translate_dict = dict((c, \" \") for c in filters)\n",
    "    translate_map = str.maketrans(translate_dict)\n",
    "    text = text.translate(translate_map)\n",
    "\n",
    "#pprint(text)\n",
    "    return text"
   ]
  },
  {
   "cell_type": "markdown",
   "metadata": {},
   "source": [
    "#### If each company name is a string on its own, you can try the following regex: /,?\\s*(llc|inc|co)\\.?$/i --> \n",
    "Optional comma\n",
    "Optional whitespace\n",
    "Either one of LLC/Inc/Co (case-insensitive)\n",
    "Optional period\n",
    "All the above at the end of the string\n"
   ]
  },
  {
   "cell_type": "code",
   "execution_count": 5,
   "metadata": {},
   "outputs": [],
   "source": [
    "labeled_rows = monster_df.loc[~monster_df['1_self_mngmt'].isnull()]"
   ]
  },
  {
   "cell_type": "code",
   "execution_count": 6,
   "metadata": {},
   "outputs": [],
   "source": [
    "X = labeled_rows['job_description']\n",
    "y = labeled_rows[['1_self_mngmt', '2_proj_mngmt', '3_ppl_mngmt', '4_prog_mngmt', '5_org_mngmt']]"
   ]
  },
  {
   "cell_type": "markdown",
   "metadata": {},
   "source": [
    "***  \n",
    "\n",
    "### Class Distribution Graph for 215 labeled rows"
   ]
  },
  {
   "cell_type": "code",
   "execution_count": 7,
   "metadata": {},
   "outputs": [],
   "source": [
    "import seaborn as sns; sns.set()\n",
    "sns.set_color_codes()"
   ]
  },
  {
   "cell_type": "code",
   "execution_count": 8,
   "metadata": {},
   "outputs": [
    {
     "data": {
      "image/png": "[encoded data removed]",
      "text/plain": [
       "<Figure size 864x576 with 1 Axes>"
      ]
     },
     "metadata": {},
     "output_type": "display_data"
    }
   ],
   "source": [
    "sns.set(style=\"whitegrid\")\n",
    "colors = ['#ffcb05', '#00274c']\n",
    "# labels = y[['1_self_mngmt', '2_proj_mngmt', '3_ppl_mngmt', '4_prog_mngmt', '5_org_mngmt']]\n",
    "# fig, ax = plt.subplots(1, figsize=(12, 8))\n",
    "# barplot = plt.bar(labels, height=1, color = 'darkgreen', alpha = 0.85)\n",
    "# barplot[1].set_color('#00274c')\n",
    "\n",
    "fig, ax = plt.subplots(1, figsize=(12, 8))\n",
    "sns.barplot(data=y, color='#ffcb05')\n",
    "plt.suptitle(\"Class Distributions Based on 200 Labeled Data\", fontsize=20, weight = 'bold')\n",
    "plt.xlabel('Factors', fontsize = 15, weight = 'bold')\n",
    "plt.xlabel('Classes', fontsize=14, weight = 'bold')\n",
    "plt.ylabel('True Label', fontsize=14, weight = 'bold')\n",
    "plt.show()\n",
    "\n",
    "# The fraction of True shown\n",
    "# Right now, I just don't know the true class distribution  --> Later to be addressed this class imbalance but not right now."
   ]
  },
  {
   "cell_type": "markdown",
   "metadata": {},
   "source": [
    "***  \n",
    "\n",
    "# 3. Building A Basic LR Model"
   ]
  },
  {
   "cell_type": "code",
   "execution_count": 9,
   "metadata": {},
   "outputs": [],
   "source": [
    "stopwords_lst = ['i', 'me', 'my', 'myself', 'we', 'our', 'ours', 'ourselves', 'you', 'your', 'yours',\n",
    "'yourself', 'yourselves', 'he', 'him', 'his', 'himself', 'she', 'her', 'hers',\n",
    "'herself', 'it', 'its', 'itself', 'they', 'them', 'their', 'theirs', 'themselves',\n",
    "'what', 'which', 'who', 'whom', 'this', 'that', 'these', 'those', 'am', 'is', 'are',\n",
    "'was', 'were', 'be', 'been', 'being', 'have', 'has', 'had', 'having', 'do', 'does',\n",
    "'did', 'doing', 'a', 'an', 'the', 'and', 'but', 'if', 'or', 'because', 'as', 'until',\n",
    "'while', 'of', 'at', 'by', 'for', 'with', 'about', 'against', 'between', 'into',\n",
    "'through', 'during', 'before', 'after', 'above', 'below', 'to', 'from', 'up', 'down',\n",
    "'in', 'out', 'on', 'off', 'over', 'under', 'again', 'further', 'then', 'once', 'here',\n",
    "'there', 'when', 'where', 'why', 'how', 'all', 'any', 'both', 'each', 'few', 'more',\n",
    "'most', 'other', 'some', 'such', 'no', 'nor', 'not', 'only', 'own', 'same', 'so',\n",
    "'than', 'too', 'very', 's', 't', 'can', 'will', 'just', 'don', 'should', 'now']"
   ]
  },
  {
   "cell_type": "code",
   "execution_count": 10,
   "metadata": {},
   "outputs": [],
   "source": [
    "from sklearn.feature_extraction.text import CountVectorizer\n",
    "from sklearn.model_selection import train_test_split\n",
    "from sklearn.feature_extraction.text import TfidfTransformer\n",
    "from sklearn.linear_model import LogisticRegression\n",
    "from sklearn.metrics import f1_score\n",
    "\n",
    "\n",
    "X_train, X_test, y_train, y_test = train_test_split(X, y, test_size=0.33, random_state=42)\n",
    "\n",
    "count_vectorizer = CountVectorizer(stop_words=stopwords_lst, preprocessor=clean_text, min_df=3, max_df=0.5)\n",
    "\n",
    "# fit the vectorizer on the training text and transform\n",
    "X_train = count_vectorizer.fit_transform(X_train)\n",
    "X_test = count_vectorizer.transform(X_test) \n",
    "\n",
    "# Similarly for TFIDF: \n",
    "tfidf_transformer = TfidfTransformer()\n",
    "X_train = tfidf_transformer.fit_transform(X_train)\n",
    "X_test = tfidf_transformer.transform(X_test)\n"
   ]
  },
  {
   "cell_type": "code",
   "execution_count": 11,
   "metadata": {},
   "outputs": [],
   "source": [
    "#count_vectorizer.vocabulary_"
   ]
  },
  {
   "cell_type": "code",
   "execution_count": 12,
   "metadata": {},
   "outputs": [
    {
     "data": {
      "text/plain": [
       "<144x1857 sparse matrix of type '<class 'numpy.float64'>'\n",
       "\twith 17237 stored elements in Compressed Sparse Row format>"
      ]
     },
     "execution_count": 12,
     "metadata": {},
     "output_type": "execute_result"
    }
   ],
   "source": [
    "X_train"
   ]
  },
  {
   "cell_type": "code",
   "execution_count": 13,
   "metadata": {},
   "outputs": [
    {
     "data": {
      "text/plain": [
       "<71x1857 sparse matrix of type '<class 'numpy.float64'>'\n",
       "\twith 7844 stored elements in Compressed Sparse Row format>"
      ]
     },
     "execution_count": 13,
     "metadata": {},
     "output_type": "execute_result"
    }
   ],
   "source": [
    "X_test\n",
    "X_test "
   ]
  },
  {
   "cell_type": "code",
   "execution_count": 14,
   "metadata": {},
   "outputs": [],
   "source": [
    "y_train = y_train.astype('bool') #(23, 5)"
   ]
  },
  {
   "cell_type": "code",
   "execution_count": 15,
   "metadata": {},
   "outputs": [
    {
     "data": {
      "text/plain": [
       "1_self_mngmt    0.816901\n",
       "2_proj_mngmt    0.352113\n",
       "3_ppl_mngmt     0.183099\n",
       "4_prog_mngmt    0.126761\n",
       "5_org_mngmt     0.112676\n",
       "dtype: float64"
      ]
     },
     "execution_count": 15,
     "metadata": {},
     "output_type": "execute_result"
    }
   ],
   "source": [
    "y_test = y_test.astype('bool') #(12, 5)\n",
    "y_test.mean()"
   ]
  },
  {
   "cell_type": "markdown",
   "metadata": {},
   "source": [
    "***  \n",
    "\n",
    "# 4. Training The Model & Predicting"
   ]
  },
  {
   "cell_type": "code",
   "execution_count": 16,
   "metadata": {},
   "outputs": [],
   "source": [
    "classifier = LogisticRegression(solver='lbfgs', class_weight='balanced').fit(X_train, y_train[\"1_self_mngmt\"])"
   ]
  },
  {
   "cell_type": "code",
   "execution_count": 17,
   "metadata": {},
   "outputs": [
    {
     "data": {
      "text/plain": [
       "array([ True,  True,  True,  True,  True,  True,  True,  True,  True,\n",
       "        True,  True,  True,  True,  True,  True,  True,  True,  True,\n",
       "        True, False,  True,  True,  True, False,  True,  True,  True,\n",
       "        True,  True,  True,  True,  True,  True,  True,  True,  True,\n",
       "        True,  True,  True,  True,  True,  True,  True,  True,  True,\n",
       "        True,  True,  True,  True,  True, False,  True,  True,  True,\n",
       "        True, False, False,  True,  True,  True, False,  True,  True,\n",
       "        True,  True,  True,  True,  True,  True,  True,  True])"
      ]
     },
     "execution_count": 17,
     "metadata": {},
     "output_type": "execute_result"
    }
   ],
   "source": [
    "y_pred = classifier.predict(X_test) #Predict class labels for samples in X\n",
    "y_pred"
   ]
  },
  {
   "cell_type": "code",
   "execution_count": 18,
   "metadata": {},
   "outputs": [
    {
     "data": {
      "text/plain": [
       "array([[0.43866871, 0.56133129],\n",
       "       [0.33949672, 0.66050328],\n",
       "       [0.3542226 , 0.6457774 ],\n",
       "       [0.41788628, 0.58211372],\n",
       "       [0.48613664, 0.51386336],\n",
       "       [0.27283955, 0.72716045],\n",
       "       [0.30276067, 0.69723933],\n",
       "       [0.41876005, 0.58123995],\n",
       "       [0.38193404, 0.61806596],\n",
       "       [0.30908147, 0.69091853],\n",
       "       [0.43170403, 0.56829597],\n",
       "       [0.35929217, 0.64070783],\n",
       "       [0.43936537, 0.56063463],\n",
       "       [0.35737254, 0.64262746],\n",
       "       [0.37020164, 0.62979836],\n",
       "       [0.29935367, 0.70064633],\n",
       "       [0.28057063, 0.71942937],\n",
       "       [0.27429586, 0.72570414],\n",
       "       [0.44132991, 0.55867009],\n",
       "       [0.51793971, 0.48206029],\n",
       "       [0.39313174, 0.60686826],\n",
       "       [0.45259581, 0.54740419],\n",
       "       [0.45779143, 0.54220857],\n",
       "       [0.54209842, 0.45790158],\n",
       "       [0.42789218, 0.57210782],\n",
       "       [0.48440927, 0.51559073],\n",
       "       [0.37854093, 0.62145907],\n",
       "       [0.32571059, 0.67428941],\n",
       "       [0.4629237 , 0.5370763 ],\n",
       "       [0.43663813, 0.56336187],\n",
       "       [0.38717941, 0.61282059],\n",
       "       [0.2901066 , 0.7098934 ],\n",
       "       [0.32687119, 0.67312881],\n",
       "       [0.35885863, 0.64114137],\n",
       "       [0.34527166, 0.65472834],\n",
       "       [0.26255135, 0.73744865],\n",
       "       [0.33589305, 0.66410695],\n",
       "       [0.47639045, 0.52360955],\n",
       "       [0.41979466, 0.58020534],\n",
       "       [0.36161405, 0.63838595],\n",
       "       [0.34398666, 0.65601334],\n",
       "       [0.44050355, 0.55949645],\n",
       "       [0.44178636, 0.55821364],\n",
       "       [0.28489517, 0.71510483],\n",
       "       [0.35326581, 0.64673419],\n",
       "       [0.45761417, 0.54238583],\n",
       "       [0.3523239 , 0.6476761 ],\n",
       "       [0.40213193, 0.59786807],\n",
       "       [0.29625677, 0.70374323],\n",
       "       [0.31279378, 0.68720622],\n",
       "       [0.66497315, 0.33502685],\n",
       "       [0.34504102, 0.65495898],\n",
       "       [0.4863605 , 0.5136395 ],\n",
       "       [0.30276067, 0.69723933],\n",
       "       [0.45161778, 0.54838222],\n",
       "       [0.5148551 , 0.4851449 ],\n",
       "       [0.54173995, 0.45826005],\n",
       "       [0.45161778, 0.54838222],\n",
       "       [0.39887681, 0.60112319],\n",
       "       [0.47312587, 0.52687413],\n",
       "       [0.53139172, 0.46860828],\n",
       "       [0.43587359, 0.56412641],\n",
       "       [0.30855252, 0.69144748],\n",
       "       [0.28001942, 0.71998058],\n",
       "       [0.46202833, 0.53797167],\n",
       "       [0.47983876, 0.52016124],\n",
       "       [0.44833951, 0.55166049],\n",
       "       [0.274805  , 0.725195  ],\n",
       "       [0.3025884 , 0.6974116 ],\n",
       "       [0.25093249, 0.74906751],\n",
       "       [0.39288194, 0.60711806]])"
      ]
     },
     "execution_count": 18,
     "metadata": {},
     "output_type": "execute_result"
    }
   ],
   "source": [
    "classifier.predict_proba(X_test) #Probability estimates "
   ]
  },
  {
   "cell_type": "markdown",
   "metadata": {},
   "source": [
    "***  \n",
    "\n",
    "### (1) Accuracy Score"
   ]
  },
  {
   "cell_type": "code",
   "execution_count": 19,
   "metadata": {},
   "outputs": [
    {
     "data": {
      "text/plain": [
       "0.8450704225352113"
      ]
     },
     "execution_count": 19,
     "metadata": {},
     "output_type": "execute_result"
    }
   ],
   "source": [
    "base_lr_accuracy_score = classifier.score(X_test, y_test[\"1_self_mngmt\"])\n",
    "base_lr_accuracy_score\n"
   ]
  },
  {
   "cell_type": "markdown",
   "metadata": {},
   "source": [
    "***  \n",
    "\n",
    "### (2) F1 Score"
   ]
  },
  {
   "cell_type": "code",
   "execution_count": 20,
   "metadata": {},
   "outputs": [
    {
     "name": "stdout",
     "output_type": "stream",
     "text": [
      "0.8209393287409523\n",
      "0.6658108686350022\n",
      "0.8450704225352113\n"
     ]
    }
   ],
   "source": [
    "print(f1_score(y_test[\"1_self_mngmt\"].astype(bool), y_pred, average='weighted'))  \n",
    "print(f1_score(y_test[\"1_self_mngmt\"].astype(bool), y_pred, average='macro'))  \n",
    "print(f1_score(y_test[\"1_self_mngmt\"].astype(bool), y_pred, average='micro'))  \n",
    "# print(f1_score(y_test[\"3_ppl_mngmt\"], y_pred, average='weighted'))"
   ]
  },
  {
   "cell_type": "markdown",
   "metadata": {},
   "source": [
    "***  \n",
    "\n",
    "### (3) Cross Entropy"
   ]
  },
  {
   "cell_type": "code",
   "execution_count": 21,
   "metadata": {},
   "outputs": [
    {
     "data": {
      "text/plain": [
       "5.351179390435061"
      ]
     },
     "execution_count": 21,
     "metadata": {},
     "output_type": "execute_result"
    }
   ],
   "source": [
    "log_loss(y_test[\"1_self_mngmt\"].astype(bool), y_pred, eps=1e-15)"
   ]
  },
  {
   "cell_type": "markdown",
   "metadata": {},
   "source": [
    "***  \n",
    "\n",
    "### (4) ROC AUC Score"
   ]
  },
  {
   "cell_type": "code",
   "execution_count": 22,
   "metadata": {},
   "outputs": [
    {
     "data": {
      "text/plain": [
       "0.8289124668435013"
      ]
     },
     "execution_count": 22,
     "metadata": {},
     "output_type": "execute_result"
    }
   ],
   "source": [
    "# We need some probabilities:\n",
    "predicted_prob = classifier.predict_proba(X_test)\n",
    "roc_auc_score(y_test[\"1_self_mngmt\"].astype(int), predicted_prob[:,1])"
   ]
  },
  {
   "cell_type": "code",
   "execution_count": 23,
   "metadata": {},
   "outputs": [
    {
     "data": {
      "image/png": "[encoded data removed]",
      "text/plain": [
       "<Figure size 1368x936 with 1 Axes>"
      ]
     },
     "metadata": {},
     "output_type": "display_data"
    }
   ],
   "source": [
    "sns.set(style=\"whitegrid\")\n",
    "sns.set_context(\"poster\")\n",
    "\n",
    "fig, ax = plt.subplots(figsize=(19,13))\n",
    "\n",
    "# Calculate roc curve\n",
    "fpr, tpr, thresholds = roc_curve(y_test[\"1_self_mngmt\"].astype(int), predicted_prob[:,1])\n",
    "\n",
    "plt.suptitle(\"Base LR ROC Curve\", fontsize=25, weight = 'bold')\n",
    "plt.xlabel('False Positive Rate', fontsize = 20, weight = 'bold')\n",
    "plt.ylabel('True Positive Rate', fontsize=20, weight = 'bold')\n",
    "\n",
    "# The blue dotted diagonal line indicates randomness.\n",
    "plt.plot([0, 1], [0, 1], linestyle='--', linewidth=5)\n",
    "# The solid orange line indictaes the roc curve for the model\n",
    "plt.plot(fpr, tpr, marker='D', linewidth=5)\n",
    "\n",
    "# show the plot\n",
    "plt.show()\n"
   ]
  },
  {
   "cell_type": "markdown",
   "metadata": {},
   "source": [
    "***  \n",
    "\n",
    "### (5) Classification Report"
   ]
  },
  {
   "cell_type": "code",
   "execution_count": 24,
   "metadata": {},
   "outputs": [
    {
     "name": "stdout",
     "output_type": "stream",
     "text": [
      "              precision    recall  f1-score   support\n",
      "\n",
      "       False       0.67      0.31      0.42        13\n",
      "        True       0.86      0.97      0.91        58\n",
      "\n",
      "   micro avg       0.85      0.85      0.85        71\n",
      "   macro avg       0.76      0.64      0.67        71\n",
      "weighted avg       0.83      0.85      0.82        71\n",
      "\n"
     ]
    }
   ],
   "source": [
    "target_names = ['False', 'True']\n",
    "print(classification_report(y_test[\"1_self_mngmt\"].astype(int), y_pred, target_names=target_names))"
   ]
  },
  {
   "cell_type": "markdown",
   "metadata": {},
   "source": [
    "***  \n",
    "### Baseline Results: Making predictions for unlabeled data"
   ]
  },
  {
   "cell_type": "code",
   "execution_count": 25,
   "metadata": {},
   "outputs": [],
   "source": [
    "# Now we will find unlabeled rows for '2_proj_mngmt':\n",
    "unlabeled_rows = monster_df.loc[monster_df['1_self_mngmt'].isnull()]\n",
    "unlabeled_rows = unlabeled_rows.dropna(subset=[\"job_description\"])"
   ]
  },
  {
   "cell_type": "code",
   "execution_count": 26,
   "metadata": {},
   "outputs": [],
   "source": [
    "# Preproccessing\n",
    "X_unlabeled = unlabeled_rows['job_description']\n",
    "#y = unlabeled_rows[['1_self_mngmt', '2_proj_mngmt', '3_ppl_mngmt', '4_prog_mngmt', '5_org_mngmt']] --> I don't need this."
   ]
  },
  {
   "cell_type": "code",
   "execution_count": 27,
   "metadata": {},
   "outputs": [],
   "source": [
    "X_unlabeled = count_vectorizer.transform(X_unlabeled)\n",
    "X_unlabeled_tf = tfidf_transformer.transform(X_unlabeled)\n",
    "#print(X_unlabeled_tf)"
   ]
  },
  {
   "cell_type": "code",
   "execution_count": 28,
   "metadata": {},
   "outputs": [
    {
     "data": {
      "text/plain": [
       "array([[0.28591183, 0.71408817],\n",
       "       [0.35742008, 0.64257992],\n",
       "       [0.39439787, 0.60560213],\n",
       "       ...,\n",
       "       [0.31268943, 0.68731057],\n",
       "       [0.38891581, 0.61108419],\n",
       "       [0.41561767, 0.58438233]])"
      ]
     },
     "execution_count": 28,
     "metadata": {},
     "output_type": "execute_result"
    }
   ],
   "source": [
    "unlabeled_pred_result = classifier.predict_proba(X_unlabeled_tf)\n",
    "unlabeled_pred_result #Probability estimates --> Look for the values, where the differece between x and y values are smallest"
   ]
  },
  {
   "cell_type": "code",
   "execution_count": 29,
   "metadata": {},
   "outputs": [],
   "source": [
    "unlabeled_rows[\"prob_false\"] = unlabeled_pred_result[:,0]\n",
    "unlabeled_rows[\"prob_true\"] = unlabeled_pred_result[:,1]\n",
    "unlabeled_rows[\"label_prob_diff\"] = unlabeled_rows[\"prob_false\"] - unlabeled_rows[\"prob_true\"]\n",
    "unlabeled_rows[[\"prob_false\", \"prob_true\", \"label_prob_diff\"]].sort_values(by=\"label_prob_diff\", ascending=False)\n",
    "subset = unlabeled_rows[unlabeled_rows[\"label_prob_diff\"].between(-100,100)] #Use func, between.\n",
    "subset = subset[[\"prob_false\", \"prob_true\", \"label_prob_diff\", \"uniq_id\" ]].sort_values(by=\"label_prob_diff\", ascending=True)"
   ]
  },
  {
   "cell_type": "markdown",
   "metadata": {},
   "source": [
    "\n",
    "***  \n",
    "\n",
    "# 5. (1) Building Pipeline: Improve classification: LR with LDA\n"
   ]
  },
  {
   "cell_type": "code",
   "execution_count": 30,
   "metadata": {},
   "outputs": [],
   "source": [
    "X_labeled_text = labeled_rows['job_description'] #Text job descriptions\n",
    "y_labeled = labeled_rows[['1_self_mngmt', '2_proj_mngmt', '3_ppl_mngmt', '4_prog_mngmt', '5_org_mngmt']]"
   ]
  },
  {
   "cell_type": "code",
   "execution_count": 31,
   "metadata": {},
   "outputs": [],
   "source": [
    "X_all = monster_df[\"job_description\"].dropna()"
   ]
  },
  {
   "cell_type": "code",
   "execution_count": 6,
   "metadata": {},
   "outputs": [
    {
     "ename": "NameError",
     "evalue": "name 'stopwords_lst' is not defined",
     "output_type": "error",
     "traceback": [
      "\u001b[0;31m---------------------------------------------------------------------------\u001b[0m",
      "\u001b[0;31mNameError\u001b[0m                                 Traceback (most recent call last)",
      "\u001b[0;32m<ipython-input-6-88eced533bb3>\u001b[0m in \u001b[0;36m<module>\u001b[0;34m\u001b[0m\n\u001b[1;32m     12\u001b[0m \u001b[0;31m#These are for lda model:\u001b[0m\u001b[0;34m\u001b[0m\u001b[0;34m\u001b[0m\u001b[0;34m\u001b[0m\u001b[0m\n\u001b[1;32m     13\u001b[0m \u001b[0;31m#Use BoW, not tfidf because BoW is the assumption that lda uses\u001b[0m\u001b[0;34m\u001b[0m\u001b[0;34m\u001b[0m\u001b[0;34m\u001b[0m\u001b[0m\n\u001b[0;32m---> 14\u001b[0;31m \u001b[0mcount_vectorizer_lda\u001b[0m \u001b[0;34m=\u001b[0m \u001b[0mCountVectorizer\u001b[0m\u001b[0;34m(\u001b[0m\u001b[0mstop_words\u001b[0m\u001b[0;34m=\u001b[0m\u001b[0mstopwords_lst\u001b[0m\u001b[0;34m,\u001b[0m \u001b[0mpreprocessor\u001b[0m\u001b[0;34m=\u001b[0m\u001b[0mclean_text\u001b[0m\u001b[0;34m,\u001b[0m \u001b[0mmin_df\u001b[0m\u001b[0;34m=\u001b[0m\u001b[0;36m100\u001b[0m\u001b[0;34m,\u001b[0m \u001b[0mmax_df\u001b[0m\u001b[0;34m=\u001b[0m\u001b[0;36m0.7\u001b[0m\u001b[0;34m)\u001b[0m\u001b[0;34m\u001b[0m\u001b[0;34m\u001b[0m\u001b[0m\n\u001b[0m\u001b[1;32m     15\u001b[0m \u001b[0mX_bow\u001b[0m \u001b[0;34m=\u001b[0m \u001b[0mcount_vectorizer_lda\u001b[0m\u001b[0;34m.\u001b[0m\u001b[0mfit_transform\u001b[0m\u001b[0;34m(\u001b[0m\u001b[0mX_all\u001b[0m\u001b[0;34m)\u001b[0m \u001b[0;31m# X_all = monster_df[\"job_description\"].dropna()\u001b[0m\u001b[0;34m\u001b[0m\u001b[0;34m\u001b[0m\u001b[0m\n\u001b[1;32m     16\u001b[0m \u001b[0;34m\u001b[0m\u001b[0m\n",
      "\u001b[0;31mNameError\u001b[0m: name 'stopwords_lst' is not defined"
     ]
    }
   ],
   "source": [
    "from sklearn.model_selection import ParameterGrid\n",
    "from sklearn.pipeline import Pipeline\n",
    "\n",
    "# Define Search Param\n",
    "search_params = {'n_components': [40, 45, 50], 'learning_decay': [0.7, 0.8, 0.9], \n",
    "                 'C': [0.85, 1.0]}\n",
    "\n",
    "# For best_or_model, consider C=, \n",
    "# count_vectorizer_lda to be added to the search_params -(e.g.) min_df=100, max_df=0.7\n",
    "grid = ParameterGrid(search_params)\n",
    "\n",
    "#These are for lda model:\n",
    "#Use BoW, not tfidf because BoW is the assumption that lda uses\n",
    "count_vectorizer_lda = CountVectorizer(stop_words=stopwords_lst, preprocessor=clean_text, min_df=100, max_df=0.7)\n",
    "X_bow = count_vectorizer_lda.fit_transform(X_all) # X_all = monster_df[\"job_description\"].dropna()\n",
    "\n",
    "for params in grid:\n",
    "    best_lda_model = LatentDirichletAllocation(n_components=params['n_components'], \n",
    "                                               learning_decay=params['learning_decay'], \n",
    "                                               max_iter=100, batch_size=128, evaluate_every=5, n_jobs=-1)\n",
    "    best_lda_model.fit(X_bow) # Fits the model on the entire dataset\n",
    "    X_labeled = count_vectorizer_lda.transform(X_labeled_text) \n",
    "    # Take the above fitted data to take to the LR model.  To do so, first apply count_vectorizer and apply LDA model.\n",
    "    X_labeled = best_lda_model.transform(X_labeled) \n",
    "\n",
    "    X_train, X_test, y_train, y_test = train_test_split(X_labeled, y_labeled, test_size=0.33, random_state=42)\n",
    "    # y_test['2_proj_mngmt']\n",
    "\n",
    "    best_lr_model = LogisticRegression(penalty='l2', solver='lbfgs', C=params['C'], class_weight='balanced')\n",
    "    best_lr_model.fit(X_train, y_train[\"1_self_mngmt\"].astype(bool))\n",
    "    y_pred = best_lr_model.predict(X_test) #Predict class labels for samples in X\n",
    "\n",
    "    #cv_scores = cross_val_score(best_lr_model, X_test, y_pred, cv=2)\n",
    "    \n",
    "    cross_entropy = log_loss(y_test[\"1_self_mngmt\"].astype(bool), y_pred, eps=1e-15)\n",
    "    \n",
    "    predicted_prob_1 = best_lr_model.predict_proba(X_test)\n",
    "    rocauc_score = roc_auc_score(y_test[\"1_self_mngmt\"].astype(bool), predicted_prob_1[:,1])\n",
    "    accuracy_score = best_lr_model.score(X_test, y_test[\"1_self_mngmt\"].astype(bool))\n",
    "    \n",
    "    weighted_f1_score = f1_score(y_test[\"1_self_mngmt\"].astype(bool), y_pred, average='weighted')  \n",
    "    macro_f1_score = f1_score(y_test[\"1_self_mngmt\"].astype(bool), y_pred, average='macro')  \n",
    "    micro_f1_score = f1_score(y_test[\"1_self_mngmt\"].astype(bool), y_pred, average='micro')\n",
    "    \n",
    "    print(\"Parameters: \", params,\",\", \"\\n\"\n",
    "          \"Accuracy Score: \", accuracy_score,\",\", \"\\n\"\n",
    "          'F1 Weighted: ', weighted_f1_score, \",\", \"\\n\"\n",
    "          'F1 Macro: ', macro_f1_score,\",\", \"\\n\" \n",
    "          'F1 Micro: ', micro_f1_score, \",\", \"\\n\"\n",
    "          'Log Loss: ', cross_entropy, \",\", \"\\n\"\n",
    "          \"ROC AUC: \", rocauc_score, \"\\n\\n\")\n",
    "    "
   ]
  },
  {
   "cell_type": "markdown",
   "metadata": {},
   "source": [
    "***  \n",
    "# 5. (2) Applying the best LDA parameters and display topics"
   ]
  },
  {
   "cell_type": "code",
   "execution_count": 32,
   "metadata": {},
   "outputs": [
    {
     "data": {
      "text/plain": [
       "LatentDirichletAllocation(batch_size=128, doc_topic_prior=None,\n",
       "             evaluate_every=5, learning_decay=0.9, learning_method='batch',\n",
       "             learning_offset=10.0, max_doc_update_iter=100, max_iter=100,\n",
       "             mean_change_tol=0.001, n_components=45, n_jobs=-1,\n",
       "             n_topics=None, perp_tol=0.1, random_state=None,\n",
       "             topic_word_prior=None, total_samples=1000000.0, verbose=0)"
      ]
     },
     "execution_count": 32,
     "metadata": {},
     "output_type": "execute_result"
    }
   ],
   "source": [
    "# https://scikit-learn.org/stable/modules/generated/sklearn.decomposition.LatentDirichletAllocation.html\n",
    "from sklearn.decomposition import LatentDirichletAllocation\n",
    "from sklearn.datasets import make_multilabel_classification\n",
    "\n",
    "X_all = monster_df[\"job_description\"].dropna()\n",
    "\n",
    "# This produces a feature matrix of token counts, similar to what\n",
    "# CountVectorizer would produce on text.\n",
    "#count_vectorizer_lda = CountVectorizer(stop_words=\"english\", preprocessor=clean_text, min_df=100, max_df=0.5)\n",
    "count_vectorizer_lda = CountVectorizer(stop_words=stopwords_lst, preprocessor=clean_text, min_df=100, max_df=0.7)\n",
    "# LDA is unsupervised, which means no label required.  \n",
    "\n",
    "X_bow = count_vectorizer_lda.fit_transform(X_all) # X came from X = labeled_rows['job_description']\n",
    "# X_tfidf = tfidf_transformer.fit_transform(X_bow)\n",
    "\n",
    "X_bow_feature_names = count_vectorizer_lda.get_feature_names()\n",
    "\n",
    "lda = LatentDirichletAllocation(n_components=45, learning_decay=0.9, max_iter=100, batch_size=128, evaluate_every=5, n_jobs=-1)\n",
    "# # doc_topic_prior=0.05, topic_word_prior=0.05\n",
    "# # doc_topic_prior --> Alpha, prior of document topic distribution theta. If the value is None, defaults to 1 / n_components.\n",
    "# # topic_word_prior --> Eta, prior of topic word distribution beta. If the value is None, defaults to 1 / n_components. \n",
    "\n",
    "lda.fit(X_bow) \n",
    "# # get topics for some given samples:\n",
    "# lda.transform(X_bow[-2:]) # Picks two examples to show as print for the last two examples\n",
    "# # (e.g.) array([[0.76497249, 0.00096665, 0.16679877, 0.06627602, 0.00098606],\n",
    "# #        [0.3278557 , 0.01228623, 0.00148471, 0.13557174, 0.52280162]])\n",
    "# # The above is the topic weights --> The higher the weight, the higher association of given topic given a doc\n",
    "# # These topic weights is applied to the Log Reg model we already have.\n",
    "\n",
    "# print(lda)  # Model attributes"
   ]
  },
  {
   "cell_type": "code",
   "execution_count": 33,
   "metadata": {},
   "outputs": [
    {
     "name": "stdout",
     "output_type": "stream",
     "text": [
      "Topic 0:\n",
      "oldcastle family career company large products materials proud opportunity north disability job please concrete environment\n",
      "Topic 1:\n",
      "job essential perform may required must functions duties employee physical able lift reasonable individuals vision\n",
      "Topic 2:\n",
      "construction heavy benefits training skills guard horizontal job engineer basic learn equipment meet national may\n",
      "Topic 3:\n",
      "nurse nursing care rn residents registered resident kindred job facility patient want healthcare hospital center\n",
      "Topic 4:\n",
      "financial customers credit team services customer products personal loan help bank mortgage goals service sales\n",
      "Topic 5:\n",
      "status employment disability protected veteran race national color origin religion without equal regard sex applicants\n",
      "Topic 6:\n",
      "drivers must license driver vehicle valid driving drug service background employment truck transportation record company\n",
      "Topic 7:\n",
      "time sales customer retail customers job may use must able needs skills education team day\n",
      "Topic 8:\n",
      "restaurant manager team service food guest guests machine required management customers shift customer products safety\n",
      "Topic 9:\n",
      "sales advantage products event marketing solutions job product retail time responsibilities brand consumer ability required\n",
      "Topic 10:\n",
      "security government information program required requirements risk federal systems provide clearance must services support including\n",
      "Topic 11:\n",
      "href attr break case test rt mns nonjob customers facebook com twitter linkedin youtube track\n",
      "Topic 12:\n",
      "maintains provides staff information procedures related required education assigned duties ensures program performs knowledge reports\n",
      "Topic 13:\n",
      "veterans disabled minorities certification women school employer current accredited equal graduate opportunity state preferred years\n",
      "Topic 14:\n",
      "customer service customers provide hill beacon services calls call staffing opportunity center needs company providing\n",
      "Topic 15:\n",
      "project construction projects management manager engineering design years manage job client site program schedule contract\n",
      "Topic 16:\n",
      "benefits company team career opportunity dental paid looking competitive life great offer insurance join opportunities\n",
      "Topic 17:\n",
      "office legal administrative firm law documents client assistant clients estate including claims support years skills\n",
      "Topic 18:\n",
      "must able equipment including installation job customers technician maintaining required standards service knowledge satellite cable\n",
      "Topic 19:\n",
      "sales business account training territory marketing company outside professional customer insurance selling products representative new\n",
      "Topic 20:\n",
      "equipment maintenance repair electrical technician mechanical parts tools required safety systems perform repairs must ability\n",
      "Topic 21:\n",
      "brookdale time life including associates living senior full program residents dental services drug retirement plan\n",
      "Topic 22:\n",
      "security apply whelan requirements team must following background education least one candidates law meet people\n",
      "Topic 23:\n",
      "food aramark service people world companies equipment learn items customer areas clean ability kitchen maintain\n",
      "Topic 24:\n",
      "care home nurse health hospice patient patients therapy physical clinical case therapist rn registered nursing\n",
      "Topic 25:\n",
      "required ability customers skills customer service education may time duties general associates responsibilities company perform\n",
      "Topic 26:\n",
      "management ensure performance training operations manager team compliance staff employees responsible leadership safety procedures develop\n",
      "Topic 27:\n",
      "accounting financial accounts payroll tax finance years job reporting monthly responsibilities degree reports analysis audit\n",
      "Topic 28:\n",
      "null caption text media title mm src com newjobs jpg cjt1 xcybercx england job report\n",
      "Topic 29:\n",
      "aflac ll insurance one help companies business people fortune benefits consecutive recognized opportunity best company\n",
      "Topic 30:\n",
      "services us com companies technology global solutions leading www world company opportunity information business industry\n",
      "Topic 31:\n",
      "laboratory clinical research lab testing environmental support study skills signal training water health samples perform\n",
      "Topic 32:\n",
      "skills ability must communication required strong able knowledge written excellent environment team high computer position\n",
      "Topic 33:\n",
      "care medical health healthcare clinical services hospital patient director patients center practice pharmacy physician staff\n",
      "Topic 34:\n",
      "benefits training learn guard meet national job skills army construction change earn 000 weeks subject\n",
      "Topic 35:\n",
      "support network systems technical system software knowledge hardware skills technology issues windows management security years\n",
      "Topic 36:\n",
      "store manager assistant ability associates tasks customer position service inventory product directed customers attention duties\n",
      "Topic 37:\n",
      "retail store team service customer sales company ability manager operations environment fast job customers hours\n",
      "Topic 38:\n",
      "marketing sales level entry management advertising customer service team clients training business manager client relations\n",
      "Topic 39:\n",
      "development data design business software test technical testing years requirements team project systems knowledge management\n",
      "Topic 40:\n",
      "job please position resume apply must candidates com time www full email looking opportunity hours\n",
      "Topic 41:\n",
      "quality manufacturing product engineering process production products requirements control years technical degree regulatory plant support\n",
      "Topic 42:\n",
      "patient patients care needs nursing required treatment demonstrates assigned must equipment documents procedures medications assessment\n",
      "Topic 43:\n",
      "store merchandise company warehouse assist procedures inventory customer cash manager skills ability customers policies clean\n",
      "Topic 44:\n",
      "business management development client ability skills team new develop solutions strong clients market within including\n"
     ]
    }
   ],
   "source": [
    "def display_topics(model, feature_names, no_top_words):\n",
    "    for topic_idx, topic in enumerate(model.components_):\n",
    "        print(\"Topic %d:\" % (topic_idx))\n",
    "        print(\" \".join([feature_names[i]\n",
    "                        for i in topic.argsort()[:-num_top_words - 1:-1]]))\n",
    "\n",
    "num_top_words = 15\n",
    "#display_topics(nmf, tfidf_feature_names, no_top_words)\n",
    "display_topics(lda, X_bow_feature_names, num_top_words)"
   ]
  },
  {
   "cell_type": "markdown",
   "metadata": {},
   "source": [
    "***  \n",
    "\n",
    "# 6. Possible Interview Questions for 1_self_mngmt"
   ]
  },
  {
   "cell_type": "code",
   "execution_count": 2,
   "metadata": {},
   "outputs": [],
   "source": [
    "interview_q_df = pd.read_excel(\"/Users/yukolopez/Desktop/SI630/Assignments/FinalProject/LR+LDA/behavioral_interview_q.xlsx\", \n",
    "                 error_bad_lines=False, sheet_name=\"Sheet1\", na_filter=False, encoding= 'utf-8')"
   ]
  },
  {
   "cell_type": "code",
   "execution_count": 3,
   "metadata": {},
   "outputs": [],
   "source": [
    "interview_q_df = interview_q_df.replace({'T':True, 'F':False, '':np.nan})"
   ]
  },
  {
   "cell_type": "code",
   "execution_count": 4,
   "metadata": {},
   "outputs": [
    {
     "data": {
      "text/plain": [
       "array([True, False], dtype=object)"
      ]
     },
     "execution_count": 4,
     "metadata": {},
     "output_type": "execute_result"
    }
   ],
   "source": [
    "interview_q_df['class_1'].unique()"
   ]
  },
  {
   "cell_type": "code",
   "execution_count": 5,
   "metadata": {},
   "outputs": [
    {
     "name": "stdout",
     "output_type": "stream",
     "text": [
      "1 Tell me a little bit about yourself.\n",
      "2 What do you know about our company and/or industry? What do you know about our competitors?\n",
      "3 Why do you want to work here?\n",
      "4 Why should we hire YOU? What can you do for us that someone else cannot?\n",
      "5 In what ways do you think you can make a contribution to our company? What makes you qualified for this position?\n",
      "6 What would you do, or hope to accomplish in your first 90 days on the job?\n",
      "7 Why did you leave your last job?   or Why do you want to leave your current employer?\n",
      "8 Why have you had so many jobs in such a short period of time?\n",
      "9 Have you ever been fired or forced to resign?\n",
      "10 Describe a situation in which you found that your results were not up to your supervisor's expectations.  What happened?  What action did you take?\n",
      "11 Describe some times when you were not very satisfied or pleased with your own performance, even though nobody else knew about it.  What did you do about it?\n",
      "12 Talk about some situations where you had to adjust quikcly to changes over which you had no control.  What was the impact of the change on you and your work?  How did you handle it?\n",
      "13 What did you like best and least about your previous job?\n",
      "14 What do you consider to be your greatest strengths and weaknesses?\n",
      "15 What are your long-range career objectives, and what steps have you taken toward obtaining them?  \n",
      "16 What would your last boss say about you?  \n",
      "17 What have you learned from your mistakes?  \n",
      "18 Can you explain this gap in your employment history?  What have you been doing for the \"X\" months since you were last employed?  \n",
      "19 What was your role in your department's most recent success?  \n",
      "20 Give me an example of a problem you faced on the job, and tell me how you solved it.  \n",
      "21 Give me an example of an important goal you had to set, and tell me about your progress in reaching that goal.\n",
      "22 How do you deal with competition?  Are you a competitive person?\n",
      "23 What would you consider an ideal work environment?\n",
      "24 How do you work with people?  Do you prefer working alone or in teams?  \n",
      "25 Describe a situation when working with a team produced more successful results than if you had completed the project on your own?  \n",
      "33 Describe a situation where you found yourself dealing with someone who didn't like you.  How did you handle it?\n",
      "34 Have you ever had difficulty with a supervisor?  With a coworker?  How did you resolve the conflict?\n",
      "36 Tell me about a time when you had to use your presentation skills to influence someone's opinion.  How successful were you?  \n",
      "38 Tell me about an important written document you were required to complete.  \n",
      "39 Describe a time when you had to learn some new skills -(e.g.) programming tools and packages.  What steps did you take to become proficient?  \n",
      "40 Describe a time when you were faced with problems or stresses at work that tested your coping skills.  What did you do?  \n",
      "41 Describe the workload in your current or most recent job.\n",
      "42 What was the most creative thing you have ever done?\n",
      "43 Describe the relationship that should exist between the supervisor and his/her direct-reports.  \n",
      "44 What motivates you to go extra mile on a project or job?  \n",
      "45 Give me an example of a time you did more than what was required in your job.\n",
      "46 What does it mean to be successful?  According to your definition, how successful have you been so far?  How do you determine or evaluate success?  \n",
      "47 What was the best decision you ever made?  What were the alternatives?  How did you go about making it?\n",
      "48 What steps do you follow to study a problem before making a decision.\n",
      "49 What is the best thing you have ever done?  Or, what is the best thing that ever happened to you?\n",
      "52 Give me an example of a time when you tried to accomplish something and failed.  Were you discouraged by this?  What did you do about it?  \n",
      "53 What do you really want to do in life?  What do you see yourself doing five years from now?  Ten years from now?\n",
      "54 What was the last book you read?  Movie you saw?  Sporting event you attended?  \n",
      "55 Do you have any hobbies?  What do you do in your spare time?  What would you like me to know about you not on your resume?  \n",
      "56 If you had six months with no obligations and no financial constraints, what would you do?\n",
      "57 You may be overqualified or too experienced for the position we have to offer.  \n",
      "58 What type of salary do you expect if we offer this position to you?  What are your expectations regarding promotions and salary increases?\n",
      "1 Tell me a little bit about yourself.\n",
      "2 What do you know about our company and/or industry? What do you know about our competitors?\n",
      "3 Why do you want to work here?\n",
      "4 Why should we hire YOU? What can you do for us that someone else cannot?\n",
      "5 In what ways do you think you can make a contribution to our company? What makes you qualified for this position?\n",
      "6 What would you do, or hope to accomplish in your first 90 days on the job?\n",
      "7 Why did you leave your last job?   or Why do you want to leave your current employer?\n",
      "8 Why have you had so many jobs in such a short period of time?\n",
      "9 Have you ever been fired or forced to resign?\n",
      "10 Describe a situation in which you found that your results were not up to your supervisor's expectations.  What happened?  What action did you take?\n",
      "11 Describe some times when you were not very satisfied or pleased with your own performance, even though nobody else knew about it.  What did you do about it?\n",
      "12 Talk about some situations where you had to adjust quikcly to changes over which you had no control.  What was the impact of the change on you and your work?  How did you handle it?\n",
      "13 What did you like best and least about your previous job?\n",
      "14 What do you consider to be your greatest strengths and weaknesses?\n",
      "15 What are your long-range career objectives, and what steps have you taken toward obtaining them?  \n",
      "16 What would your last boss say about you?  \n",
      "17 What have you learned from your mistakes?  \n",
      "18 Can you explain this gap in your employment history?  What have you been doing for the \"X\" months since you were last employed?  \n",
      "19 What was your role in your department's most recent success?  \n",
      "20 Give me an example of a problem you faced on the job, and tell me how you solved it.  \n",
      "21 Give me an example of an important goal you had to set, and tell me about your progress in reaching that goal.\n",
      "22 How do you deal with competition?  Are you a competitive person?\n",
      "23 What would you consider an ideal work environment?\n",
      "24 How do you work with people?  Do you prefer working alone or in teams?  \n",
      "25 Describe a situation when working with a team produced more successful results than if you had completed the project on your own?  \n",
      "33 Describe a situation where you found yourself dealing with someone who didn't like you.  How did you handle it?\n",
      "34 Have you ever had difficulty with a supervisor?  With a coworker?  How did you resolve the conflict?\n",
      "36 Tell me about a time when you had to use your presentation skills to influence someone's opinion.  How successful were you?  \n",
      "38 Tell me about an important written document you were required to complete.  \n",
      "39 Describe a time when you had to learn some new skills -(e.g.) programming tools and packages.  What steps did you take to become proficient?  \n",
      "40 Describe a time when you were faced with problems or stresses at work that tested your coping skills.  What did you do?  \n",
      "41 Describe the workload in your current or most recent job.\n",
      "42 What was the most creative thing you have ever done?\n",
      "43 Describe the relationship that should exist between the supervisor and his/her direct-reports.  \n",
      "44 What motivates you to go extra mile on a project or job?  \n",
      "45 Give me an example of a time you did more than what was required in your job.\n",
      "46 What does it mean to be successful?  According to your definition, how successful have you been so far?  How do you determine or evaluate success?  \n",
      "47 What was the best decision you ever made?  What were the alternatives?  How did you go about making it?\n",
      "48 What steps do you follow to study a problem before making a decision.\n",
      "49 What is the best thing you have ever done?  Or, what is the best thing that ever happened to you?\n",
      "52 Give me an example of a time when you tried to accomplish something and failed.  Were you discouraged by this?  What did you do about it?  \n",
      "53 What do you really want to do in life?  What do you see yourself doing five years from now?  Ten years from now?\n",
      "54 What was the last book you read?  Movie you saw?  Sporting event you attended?  \n",
      "55 Do you have any hobbies?  What do you do in your spare time?  What would you like me to know about you not on your resume?  \n",
      "56 If you had six months with no obligations and no financial constraints, what would you do?\n",
      "57 You may be overqualified or too experienced for the position we have to offer.  \n",
      "58 What type of salary do you expect if we offer this position to you?  What are your expectations regarding promotions and salary increases?\n"
     ]
    }
   ],
   "source": [
    "q = []\n",
    "for each in interview_q_df['class_1'].unique(): \n",
    "    qs = interview_q_df.loc[interview_q_df['class_1'] == True][[\"q_id\", \"interview_q\"]]\n",
    "    q.append(qs)\n",
    "#print(q)\n",
    "for a in q:\n",
    "    for index, b in a.iterrows():\n",
    "        print(b[\"q_id\"], b[\"interview_q\"])"
   ]
  },
  {
   "cell_type": "code",
   "execution_count": null,
   "metadata": {},
   "outputs": [],
   "source": []
  }
 ],
 "metadata": {
  "kernelspec": {
   "display_name": "Python 3",
   "language": "python",
   "name": "python3"
  },
  "language_info": {
   "codemirror_mode": {
    "name": "ipython",
    "version": 3
   },
   "file_extension": ".py",
   "mimetype": "text/x-python",
   "name": "python",
   "nbconvert_exporter": "python",
   "pygments_lexer": "ipython3",
   "version": "3.7.1"
  }
 },
 "nbformat": 4,
 "nbformat_minor": 2
}
